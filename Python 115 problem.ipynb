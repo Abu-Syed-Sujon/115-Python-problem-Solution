{
 "cells": [
  {
   "cell_type": "markdown",
   "id": "d4ff2d41-d87d-4ee7-b9ee-3dd6ce123ec5",
   "metadata": {},
   "source": [
    "<h1>1. Variable Swap:</h1>"
   ]
  },
  {
   "cell_type": "code",
   "execution_count": 3,
   "id": "9c6ff290-4183-46d1-938e-debcaf528ed7",
   "metadata": {},
   "outputs": [
    {
     "name": "stdout",
     "output_type": "stream",
     "text": [
      "10 5\n"
     ]
    }
   ],
   "source": [
    "# Swapping two variables without using a temporary variable\n",
    "a = 5\n",
    "b = 10\n",
    "a, b = b, a\n",
    "print(a, b)  # Output: 10 5\n"
   ]
  },
  {
   "cell_type": "markdown",
   "id": "0eeb0028-ff7b-426d-b1cd-4c8332b5a1bc",
   "metadata": {},
   "source": [
    "<h1>2. Even or Odd:</h1>"
   ]
  },
  {
   "cell_type": "code",
   "execution_count": 6,
   "id": "f9ed9bac-4e87-46e7-87ad-288e5bf54248",
   "metadata": {},
   "outputs": [
    {
     "name": "stdin",
     "output_type": "stream",
     "text": [
      "Enter an integer:  7\n"
     ]
    },
    {
     "name": "stdout",
     "output_type": "stream",
     "text": [
      "Odd\n"
     ]
    }
   ],
   "source": [
    "# Check if a number is even or odd\n",
    "num = int(input(\"Enter an integer: \"))\n",
    "if num % 2 == 0:\n",
    "    print(\"Even\")\n",
    "else:\n",
    "    print(\"Odd\")\n"
   ]
  },
  {
   "cell_type": "markdown",
   "id": "6a2a27b0-9b14-406f-9560-9f43f2b2c92e",
   "metadata": {},
   "source": [
    "<h1>3. String Reverse:</h1>"
   ]
  },
  {
   "cell_type": "code",
   "execution_count": 9,
   "id": "bb0a599a-c2ad-41d6-9ec5-9d7bef244b11",
   "metadata": {},
   "outputs": [
    {
     "name": "stdout",
     "output_type": "stream",
     "text": [
      "olleh\n"
     ]
    }
   ],
   "source": [
    "# Function to reverse a string\n",
    "def reverse_string(s):\n",
    "    return s[::-1]\n",
    "\n",
    "print(reverse_string(\"hello\"))  # Output: \"olleh\"\n"
   ]
  },
  {
   "cell_type": "markdown",
   "id": "aaf1f016-92df-4a2b-a0c2-19c8dd1ad143",
   "metadata": {},
   "source": [
    "<h1>4. Type Conversion: </h1>"
   ]
  },
  {
   "cell_type": "code",
   "execution_count": 12,
   "id": "03df784d-0b98-432a-8e43-52872294b3e9",
   "metadata": {},
   "outputs": [
    {
     "name": "stdout",
     "output_type": "stream",
     "text": [
      "['1', '2', '3', '4', '5']\n"
     ]
    }
   ],
   "source": [
    "# Convert each integer in a list to a string\n",
    "lst = [1, 2, 3, 4, 5]\n",
    "str_lst = list(map(str, lst))\n",
    "print(str_lst)  # Output: ['1', '2', '3', '4', '5']\n"
   ]
  },
  {
   "cell_type": "markdown",
   "id": "3a028f61-b709-438b-a057-8e8793ae8071",
   "metadata": {},
   "source": [
    "<h1>5. Temperature Converter: </h1>"
   ]
  },
  {
   "cell_type": "code",
   "execution_count": 17,
   "id": "0de65756-9ee7-4ee0-b79c-5aa9e0f63ba0",
   "metadata": {},
   "outputs": [
    {
     "name": "stdin",
     "output_type": "stream",
     "text": [
      "Enter temperature in Celsius:  30\n"
     ]
    },
    {
     "name": "stdout",
     "output_type": "stream",
     "text": [
      "30.0°C is 86.0°F\n"
     ]
    }
   ],
   "source": [
    "# Convert Celsius to Fahrenheit\n",
    "celsius = float(input(\"Enter temperature in Celsius: \"))\n",
    "fahrenheit = (celsius * 9/5) + 32\n",
    "print(f\"{celsius}°C is {fahrenheit}°F\")\n"
   ]
  },
  {
   "cell_type": "markdown",
   "id": "04a265d8-0ee1-43b9-9378-847f9ea7b7e2",
   "metadata": {},
   "source": [
    "<h1>6. Data Type Checker:</h1>"
   ]
  },
  {
   "cell_type": "code",
   "execution_count": 20,
   "id": "a559fad0-1123-446c-b075-76c174bac2d7",
   "metadata": {},
   "outputs": [
    {
     "name": "stdout",
     "output_type": "stream",
     "text": [
      "int\n",
      "float\n",
      "str\n"
     ]
    }
   ],
   "source": [
    "# Function to check the data type of a variable\n",
    "def check_data_type(variable):\n",
    "    return type(variable).__name__\n",
    "\n",
    "print(check_data_type(5))      # Output: \"int\"\n",
    "print(check_data_type(3.14))   # Output: \"float\"\n",
    "print(check_data_type(\"hello\"))  # Output: \"str\"\n"
   ]
  },
  {
   "cell_type": "markdown",
   "id": "6d4f7a8c-3525-44dd-86c1-f7d797813493",
   "metadata": {},
   "source": [
    "<h1>7. String Palindrome:</h1>"
   ]
  },
  {
   "cell_type": "code",
   "execution_count": 23,
   "id": "3ded0978-16bb-47f7-a2d1-4a5086cfba62",
   "metadata": {},
   "outputs": [
    {
     "name": "stdout",
     "output_type": "stream",
     "text": [
      "True\n",
      "False\n"
     ]
    }
   ],
   "source": [
    "# Function to check if a string is a palindrome\n",
    "def is_palindrome(s):\n",
    "    return s == s[::-1]\n",
    "\n",
    "print(is_palindrome(\"racecar\"))  # Output: True\n",
    "print(is_palindrome(\"hello\"))    # Output: False\n"
   ]
  },
  {
   "cell_type": "markdown",
   "id": "8199ba37-5be9-43a7-8a1b-7ac313b27560",
   "metadata": {},
   "source": [
    "<h1>8. String Reversal with Slicing:</h1>"
   ]
  },
  {
   "cell_type": "code",
   "execution_count": 26,
   "id": "796f92bc-e96c-4e24-8936-cbd9c4008793",
   "metadata": {},
   "outputs": [
    {
     "name": "stdout",
     "output_type": "stream",
     "text": [
      "olleh\n"
     ]
    }
   ],
   "source": [
    "# Function to reverse a string using slicing\n",
    "def reverse_string_slicing(s):\n",
    "    return s[::-1]\n",
    "\n",
    "print(reverse_string_slicing(\"hello\"))  # Output: \"olleh\"\n"
   ]
  },
  {
   "cell_type": "markdown",
   "id": "812550b7-ac7b-4956-88f6-dea76511f28f",
   "metadata": {},
   "source": [
    "<h1>9. String Concatenation without +:</h1>"
   ]
  },
  {
   "cell_type": "code",
   "execution_count": 29,
   "id": "2ae283c9-9024-4085-80b2-a4b9f1cc32b3",
   "metadata": {},
   "outputs": [
    {
     "name": "stdin",
     "output_type": "stream",
     "text": [
      "Enter first string:  Hello\n",
      "Enter second string:  World!\n"
     ]
    },
    {
     "name": "stdout",
     "output_type": "stream",
     "text": [
      "HelloWorld!\n"
     ]
    }
   ],
   "source": [
    "# Concatenate two strings without using '+'\n",
    "str1 = input(\"Enter first string: \")\n",
    "str2 = input(\"Enter second string: \")\n",
    "concatenated = \"{}{}\".format(str1, str2)\n",
    "print(concatenated)\n"
   ]
  },
  {
   "cell_type": "markdown",
   "id": "333c36de-6a45-4f0c-9db1-c80796a55407",
   "metadata": {},
   "source": [
    "<h1>10. Typecasting Challenge:</h1>"
   ]
  },
  {
   "cell_type": "code",
   "execution_count": 32,
   "id": "65de81db-0a1c-4ed6-8c5b-876facc29da4",
   "metadata": {},
   "outputs": [
    {
     "name": "stdout",
     "output_type": "stream",
     "text": [
      "114.5 is the answer.\n"
     ]
    }
   ],
   "source": [
    "# Typecasting Challenge: Given three variables: `a = ‘100’`, `b = 25`, and `c = ‘10.5’`, write a Python program to perform the following operations and print the results: – Convert `a` to an integer and add it to `b`. – Convert `c` to a float and subtract it from the result of the first operation. – Convert the final result to a string and concatenate it with the string ” is the answer.”\n",
    "\n",
    "a = '100'\n",
    "b = 25\n",
    "c = '10.5'\n",
    "\n",
    "# Convert `a` to int and add to `b`\n",
    "result = int(a) + b\n",
    "\n",
    "# Convert `c` to float and subtract from result\n",
    "result -= float(c)\n",
    "\n",
    "# Convert final result to string and concatenate with \" is the answer.\"\n",
    "final_result = str(result) + \" is the answer.\"\n",
    "print(final_result)\n"
   ]
  },
  {
   "cell_type": "markdown",
   "id": "6bb287c9-4f09-4705-a55c-8308c02d395d",
   "metadata": {},
   "source": [
    "<h1>11. Positive, Negative, or Zero</h1>"
   ]
  },
  {
   "cell_type": "code",
   "execution_count": 35,
   "id": "452c7c32-aa25-4a08-b619-42127b8ac308",
   "metadata": {},
   "outputs": [
    {
     "name": "stdin",
     "output_type": "stream",
     "text": [
      "Enter a number:  10\n"
     ]
    },
    {
     "name": "stdout",
     "output_type": "stream",
     "text": [
      "Positive\n"
     ]
    }
   ],
   "source": [
    "# . Positive, Negative, or Zero: Write a Python program that takes a number as input and prints whether it is positive, negative, or zero.\n",
    "# Check if a number is positive, negative, or zero\n",
    "num = float(input(\"Enter a number: \"))\n",
    "if num > 0:\n",
    "    print(\"Positive\")\n",
    "elif num < 0:\n",
    "    print(\"Negative\")\n",
    "else:\n",
    "    print(\"Zero\")\n"
   ]
  },
  {
   "cell_type": "markdown",
   "id": "af23d199-a521-42d8-8f90-22d16ad21f5f",
   "metadata": {},
   "source": [
    "<h1>12. Largest of Three Numbers</h1>"
   ]
  },
  {
   "cell_type": "code",
   "execution_count": 38,
   "id": "cba2fa1f-174d-426c-9bd4-9114fa503d0c",
   "metadata": {},
   "outputs": [
    {
     "name": "stdin",
     "output_type": "stream",
     "text": [
      "Enter first number:  13\n",
      "Enter second number:  5\n",
      "Enter third number:  7\n"
     ]
    },
    {
     "name": "stdout",
     "output_type": "stream",
     "text": [
      "The largest number is 13.0\n"
     ]
    }
   ],
   "source": [
    "# Largest of Three Numbers: Write a Python program that takes three numbers as input and prints the largest among them.\n",
    "# Find the largest of three numbers\n",
    "a = float(input(\"Enter first number: \"))\n",
    "b = float(input(\"Enter second number: \"))\n",
    "c = float(input(\"Enter third number: \"))\n",
    "largest = max(a, b, c)\n",
    "print(f\"The largest number is {largest}\")\n"
   ]
  },
  {
   "cell_type": "markdown",
   "id": "8d553684-ff24-465f-a335-a68c89481c03",
   "metadata": {},
   "source": [
    "<h1>13. Leap Year Checker</h1>"
   ]
  },
  {
   "cell_type": "code",
   "execution_count": 41,
   "id": "053eac24-81c0-4e4e-89ae-870417f75d84",
   "metadata": {},
   "outputs": [
    {
     "name": "stdin",
     "output_type": "stream",
     "text": [
      "Enter a year:  2024\n"
     ]
    },
    {
     "name": "stdout",
     "output_type": "stream",
     "text": [
      "2024 is a leap year\n"
     ]
    }
   ],
   "source": [
    "# Leap Year Checker: Write a Python program that takes a year as input and determines if it is a leap year or not.\n",
    "# Check if a year is a leap year\n",
    "year = int(input(\"Enter a year: \"))\n",
    "if (year % 4 == 0 and year % 100 != 0) or (year % 400 == 0):\n",
    "    print(f\"{year} is a leap year\")\n",
    "else:\n",
    "    print(f\"{year} is not a leap year\")\n"
   ]
  },
  {
   "cell_type": "markdown",
   "id": "b47928e7-b37e-4b81-ae54-d518213356e0",
   "metadata": {},
   "source": [
    "<h1>14. Grades Classification</h1>"
   ]
  },
  {
   "cell_type": "code",
   "execution_count": 44,
   "id": "fee5a1c3-b098-497b-9d3e-e97698b11b47",
   "metadata": {},
   "outputs": [
    {
     "name": "stdin",
     "output_type": "stream",
     "text": [
      "Enter percentage:  76\n"
     ]
    },
    {
     "name": "stdout",
     "output_type": "stream",
     "text": [
      "Grade: B\n"
     ]
    }
   ],
   "source": [
    "#Grades Classification: Write a Python program that takes a student’s percentage as input and prints their corresponding grade according to the following criteria: – 90% or above: A+ – 80-89%: A – 70-79%: B – 60-69%: C – Below 60%: Fail\n",
    "\n",
    "# Classify grades based on percentage\n",
    "percentage = float(input(\"Enter percentage: \"))\n",
    "if percentage >= 90:\n",
    "    print(\"Grade: A+\")\n",
    "elif percentage >= 80:\n",
    "    print(\"Grade: A\")\n",
    "elif percentage >= 70:\n",
    "    print(\"Grade: B\")\n",
    "elif percentage >= 60:\n",
    "    print(\"Grade: C\")\n",
    "else:\n",
    "    print(\"Grade: Fail\")\n"
   ]
  },
  {
   "cell_type": "markdown",
   "id": "c6ae5e0c-58be-441a-b034-8500186ee69e",
   "metadata": {},
   "source": [
    "<h1>15. Vowel or Consonant</h1>"
   ]
  },
  {
   "cell_type": "code",
   "execution_count": 47,
   "id": "931ba7e9-6a93-403c-bda2-939151e5a2ee",
   "metadata": {},
   "outputs": [
    {
     "name": "stdin",
     "output_type": "stream",
     "text": [
      "Enter a single character:  F\n"
     ]
    },
    {
     "name": "stdout",
     "output_type": "stream",
     "text": [
      "f is a consonant\n"
     ]
    }
   ],
   "source": [
    "#Vowel or Consonant: Write a Python program that takes a single character as input and determines whether it is a vowel or a consonant.\n",
    "\n",
    "# Check if a character is a vowel or consonant\n",
    "char = input(\"Enter a single character: \").lower()\n",
    "if char in 'aeiou':\n",
    "    print(f\"{char} is a vowel\")\n",
    "else:\n",
    "    print(f\"{char} is a consonant\")\n"
   ]
  },
  {
   "cell_type": "markdown",
   "id": "cd5d6a7d-f8b4-4fc0-baa8-afe30aead130",
   "metadata": {},
   "source": [
    "<h1>16. Time Classification</h1>"
   ]
  },
  {
   "cell_type": "code",
   "execution_count": 50,
   "id": "b9cd2eb9-dfc1-42d6-a643-b13cf090477d",
   "metadata": {},
   "outputs": [
    {
     "name": "stdin",
     "output_type": "stream",
     "text": [
      "Enter time in 24-hour format (0-23):  20\n"
     ]
    },
    {
     "name": "stdout",
     "output_type": "stream",
     "text": [
      "Good Evening\n"
     ]
    }
   ],
   "source": [
    "#Time Classification: Write a Python program that takes the time in hours (24-hour format) as input and prints “Good Morning”, “Good Afternoon”, “Good Evening”, or “Good Night” based on the time.\n",
    "\n",
    "# Classify time into morning, afternoon, evening, or night\n",
    "hour = int(input(\"Enter time in 24-hour format (0-23): \"))\n",
    "if 5 <= hour < 12:\n",
    "    print(\"Good Morning\")\n",
    "elif 12 <= hour < 17:\n",
    "    print(\"Good Afternoon\")\n",
    "elif 17 <= hour < 21:\n",
    "    print(\"Good Evening\")\n",
    "else:\n",
    "    print(\"Good Night\")\n"
   ]
  },
  {
   "cell_type": "markdown",
   "id": "0eccbf41-d5be-41c0-a42a-38fd0572f825",
   "metadata": {},
   "source": [
    "<h1>17. Triangle Type Checker</h1>"
   ]
  },
  {
   "cell_type": "code",
   "execution_count": 53,
   "id": "c0832c80-8c16-4125-a1fb-d4f2d5fb1d5f",
   "metadata": {},
   "outputs": [
    {
     "name": "stdin",
     "output_type": "stream",
     "text": [
      "Enter first side:  4\n",
      "Enter second side:  5\n",
      "Enter third side:  6\n"
     ]
    },
    {
     "name": "stdout",
     "output_type": "stream",
     "text": [
      "Scalene triangle\n"
     ]
    }
   ],
   "source": [
    "#Triangle Type Checker: Write a Python program that takes three sides of a triangle as input and determines whether it forms an equilateral, isosceles, or scalene triangle.\n",
    "# Check the type of triangle based on its sides\n",
    "side1 = float(input(\"Enter first side: \"))\n",
    "side2 = float(input(\"Enter second side: \"))\n",
    "side3 = float(input(\"Enter third side: \"))\n",
    "if side1 == side2 == side3:\n",
    "    print(\"Equilateral triangle\")\n",
    "elif side1 == side2 or side1 == side3 or side2 == side3:\n",
    "    print(\"Isosceles triangle\")\n",
    "else:\n",
    "    print(\"Scalene triangle\")\n"
   ]
  },
  {
   "cell_type": "markdown",
   "id": "2a818f35-4bfb-412c-81d1-668abf1974dc",
   "metadata": {},
   "source": [
    "<h1>18. Quadratic Equation Solver</h1>"
   ]
  },
  {
   "cell_type": "code",
   "execution_count": 56,
   "id": "ed697887-8b9b-456b-9833-4be29a79a077",
   "metadata": {},
   "outputs": [
    {
     "name": "stdin",
     "output_type": "stream",
     "text": [
      "Enter coefficient a:  2\n",
      "Enter coefficient b:  3\n",
      "Enter coefficient c:  1\n"
     ]
    },
    {
     "name": "stdout",
     "output_type": "stream",
     "text": [
      "Real roots: -0.5 and -1.0\n"
     ]
    }
   ],
   "source": [
    "#. Quadratic Equation Solver: Write a Python program that takes the coefficients (a, b, c) of a quadratic equation as input and calculates and prints the real roots (if they exist) or a message indicating the complex roots.\n",
    "\n",
    "\n",
    "import math\n",
    "\n",
    "# Solve a quadratic equation ax^2 + bx + c = 0\n",
    "a = float(input(\"Enter coefficient a: \"))\n",
    "b = float(input(\"Enter coefficient b: \"))\n",
    "c = float(input(\"Enter coefficient c: \"))\n",
    "\n",
    "discriminant = b**2 - 4*a*c\n",
    "\n",
    "if discriminant > 0:\n",
    "    root1 = (-b + math.sqrt(discriminant)) / (2*a)\n",
    "    root2 = (-b - math.sqrt(discriminant)) / (2*a)\n",
    "    print(f\"Real roots: {root1} and {root2}\")\n",
    "elif discriminant == 0:\n",
    "    root = -b / (2*a)\n",
    "    print(f\"One real root: {root}\")\n",
    "else:\n",
    "    print(\"Complex roots\")\n"
   ]
  },
  {
   "cell_type": "markdown",
   "id": "badca56c-4cb6-4e2e-b2ea-d23e5c29b617",
   "metadata": {},
   "source": [
    "<h1>19. Number Ranges</h1>"
   ]
  },
  {
   "cell_type": "code",
   "execution_count": 61,
   "id": "69fdc4b6-d449-4be7-8cd6-e9958cb23a7f",
   "metadata": {},
   "outputs": [
    {
     "name": "stdin",
     "output_type": "stream",
     "text": [
      "Enter a number:  80\n"
     ]
    },
    {
     "name": "stdout",
     "output_type": "stream",
     "text": [
      "Number is in the range 51-100\n"
     ]
    }
   ],
   "source": [
    "#Number Ranges: Write a Python program that takes an integer as input and prints whether the number falls within the ranges: 0-50, 51-100, 101-150, or above 150.\n",
    "\n",
    "# Check which range a number falls into\n",
    "num = int(input(\"Enter a number: \"))\n",
    "if 0 <= num <= 50:\n",
    "    print(\"Number is in the range 0-50\")\n",
    "elif 51 <= num <= 100:\n",
    "    print(\"Number is in the range 51-100\")\n",
    "elif 101 <= num <= 150:\n",
    "    print(\"Number is in the range 101-150\")\n",
    "else:\n",
    "    print(\"Number is above 150\")\n"
   ]
  },
  {
   "cell_type": "markdown",
   "id": "de0fccf5-84e4-4a87-9712-6a115f2b53c4",
   "metadata": {},
   "source": [
    "<h1>20. Sum of N Numbers</h1>"
   ]
  },
  {
   "cell_type": "code",
   "execution_count": 413,
   "id": "ddb5f10c-89de-44f8-8c4d-9d174b8ca8f3",
   "metadata": {},
   "outputs": [
    {
     "name": "stdin",
     "output_type": "stream",
     "text": [
      "Enter a number:  10\n"
     ]
    },
    {
     "name": "stdout",
     "output_type": "stream",
     "text": [
      "Sum of the first 10 natural numbers is: 55\n"
     ]
    }
   ],
   "source": [
    "#Sum of N Numbers: Write a Python program using a for loop to calculate the sum of the first N natural numbers, where N is taken as input from the user.\n",
    "# Sum of N Numbers\n",
    "N = int(input(\"Enter a number: \"))\n",
    "sum_n = 0\n",
    "for i in range(1, N + 1):\n",
    "    sum_n += i\n",
    "print(\"Sum of the first\", N, \"natural numbers is:\", sum_n)"
   ]
  },
  {
   "cell_type": "markdown",
   "id": "ba7166a8-703d-49e4-b921-c7733e8e393e",
   "metadata": {},
   "source": [
    "<h1>21. Factorial Calculator</h1>"
   ]
  },
  {
   "cell_type": "code",
   "execution_count": 67,
   "id": "2a960df7-fcca-45de-b006-490328c7036c",
   "metadata": {},
   "outputs": [
    {
     "name": "stdin",
     "output_type": "stream",
     "text": [
      "Enter a number:  4\n"
     ]
    },
    {
     "name": "stdout",
     "output_type": "stream",
     "text": [
      "Factorial is: 24\n"
     ]
    }
   ],
   "source": [
    "#Factorial Calculator: Write a Python program using a while loop to calculate the factorial of a given number N.\n",
    "\n",
    "# Factorial Calculator\n",
    "\n",
    "N = int(input(\"Enter a number: \"))\n",
    "factorial = 1\n",
    "while N > 0:\n",
    "    factorial *= N\n",
    "    N -= 1\n",
    "print(\"Factorial is:\", factorial)"
   ]
  },
  {
   "cell_type": "markdown",
   "id": "43314cdb-d3d4-4df6-b3c1-11843f37d942",
   "metadata": {},
   "source": [
    "<h1>22. Table of a Number</h1>"
   ]
  },
  {
   "cell_type": "code",
   "execution_count": 70,
   "id": "3fa53f94-baee-4b96-a3c8-d9d242de8008",
   "metadata": {},
   "outputs": [
    {
     "name": "stdin",
     "output_type": "stream",
     "text": [
      "Enter a number:  4\n"
     ]
    },
    {
     "name": "stdout",
     "output_type": "stream",
     "text": [
      "4 x 1 = 4\n",
      "4 x 2 = 8\n",
      "4 x 3 = 12\n",
      "4 x 4 = 16\n",
      "4 x 5 = 20\n",
      "4 x 6 = 24\n",
      "4 x 7 = 28\n",
      "4 x 8 = 32\n",
      "4 x 9 = 36\n",
      "4 x 10 = 40\n"
     ]
    }
   ],
   "source": [
    "# Table of a Number\n",
    "N = int(input(\"Enter a number: \"))\n",
    "for i in range(1, 11):\n",
    "    print(N, 'x', i, '=', N * i)"
   ]
  },
  {
   "cell_type": "markdown",
   "id": "b5ab2cb8-b700-41f3-9ef7-05827b63827f",
   "metadata": {},
   "source": [
    "<h1>23. Count Digits in a Number</h1>"
   ]
  },
  {
   "cell_type": "code",
   "execution_count": 73,
   "id": "0f499cc6-9b72-4fb9-8553-7725ae18eef9",
   "metadata": {},
   "outputs": [
    {
     "name": "stdin",
     "output_type": "stream",
     "text": [
      "Enter a number:  1996\n"
     ]
    },
    {
     "name": "stdout",
     "output_type": "stream",
     "text": [
      "Number of digits: 4\n"
     ]
    }
   ],
   "source": [
    "# Count Digits in a Number\n",
    "N = int(input(\"Enter a number: \"))\n",
    "count = 0\n",
    "while N > 0:\n",
    "    N //= 10\n",
    "    count += 1\n",
    "print(\"Number of digits:\", count)"
   ]
  },
  {
   "cell_type": "markdown",
   "id": "9e2426c3-96e1-4a78-9d67-753321617af7",
   "metadata": {},
   "source": [
    "<h1>24. Fibonacci Sequence</h1>"
   ]
  },
  {
   "cell_type": "code",
   "execution_count": 76,
   "id": "0705f0fe-ae29-41a5-9d7c-9701781c07be",
   "metadata": {},
   "outputs": [
    {
     "name": "stdin",
     "output_type": "stream",
     "text": [
      "Enter the limit:  10\n"
     ]
    },
    {
     "name": "stdout",
     "output_type": "stream",
     "text": [
      "0 1 1 2 3 5 8 13 21 34 "
     ]
    }
   ],
   "source": [
    "# Fibonacci Sequence\n",
    "N = int(input(\"Enter the limit: \"))\n",
    "a, b = 0, 1\n",
    "for _ in range(N):\n",
    "    print(a, end=' ')\n",
    "    a, b = b, a + b"
   ]
  },
  {
   "cell_type": "markdown",
   "id": "69ab609b-18f1-44d3-8b53-b2b03615e437",
   "metadata": {},
   "source": [
    "<h1>25. Sum of Even Numbers</h1>"
   ]
  },
  {
   "cell_type": "code",
   "execution_count": 79,
   "id": "d89b1bf4-ada5-452f-b10f-5700f6973079",
   "metadata": {},
   "outputs": [
    {
     "name": "stdin",
     "output_type": "stream",
     "text": [
      "Enter a number:  10\n"
     ]
    },
    {
     "name": "stdout",
     "output_type": "stream",
     "text": [
      "Sum of even numbers between 1 and 10 is: 30\n"
     ]
    }
   ],
   "source": [
    "# Sum of Even Numbers\n",
    "N = int(input(\"Enter a number: \"))\n",
    "sum_even = 0\n",
    "i = 2\n",
    "while i <= N:\n",
    "    sum_even += i\n",
    "    i += 2\n",
    "print(\"Sum of even numbers between 1 and\", N, \"is:\", sum_even)"
   ]
  },
  {
   "cell_type": "markdown",
   "id": "c33b2500-e647-4eed-bb40-ac258322c838",
   "metadata": {},
   "source": [
    "<h1>26. Print Patterns</h1>"
   ]
  },
  {
   "cell_type": "code",
   "execution_count": 82,
   "id": "210b2384-6575-437d-aa4f-e547e5629949",
   "metadata": {},
   "outputs": [
    {
     "name": "stdin",
     "output_type": "stream",
     "text": [
      "Enter the number of rows:  4\n"
     ]
    },
    {
     "name": "stdout",
     "output_type": "stream",
     "text": [
      "Right-angled triangle:\n",
      "*\n",
      "**\n",
      "***\n",
      "****\n",
      "\n",
      "Inverted right-angled triangle:\n",
      "****\n",
      "***\n",
      "**\n",
      "*\n"
     ]
    }
   ],
   "source": [
    "# Print Patterns\n",
    "N = int(input(\"Enter the number of rows: \"))\n",
    "\n",
    "# Right-angled triangle\n",
    "print(\"Right-angled triangle:\")\n",
    "for i in range(1, N + 1):\n",
    "    print('*' * i)\n",
    "\n",
    "# Inverted right-angled triangle\n",
    "print(\"\\nInverted right-angled triangle:\")\n",
    "for i in range(N, 0, -1):\n",
    "    print('*' * i)"
   ]
  },
  {
   "cell_type": "markdown",
   "id": "81337e8b-f591-43bf-a271-d1e21c32dd1e",
   "metadata": {},
   "source": [
    "<h1>27. Prime Number Checker</h1>"
   ]
  },
  {
   "cell_type": "code",
   "execution_count": 85,
   "id": "bc2fdcca-4a30-4a6f-8161-66cdd052cdd7",
   "metadata": {},
   "outputs": [
    {
     "name": "stdin",
     "output_type": "stream",
     "text": [
      "Enter a number:  33\n"
     ]
    },
    {
     "name": "stdout",
     "output_type": "stream",
     "text": [
      "33 is not a prime number\n"
     ]
    }
   ],
   "source": [
    "# Prime Number Checker\n",
    "N = int(input(\"Enter a number: \"))\n",
    "is_prime = True\n",
    "i = 2\n",
    "while i <= N // 2:\n",
    "    if N % i == 0:\n",
    "        is_prime = False\n",
    "        break\n",
    "    i += 1\n",
    "if is_prime and N > 1:\n",
    "    print(N, \"is a prime number\")\n",
    "else:\n",
    "    print(N, \"is not a prime number\")"
   ]
  },
  {
   "cell_type": "markdown",
   "id": "813e01b9-0a11-405f-95b2-734d07554ab8",
   "metadata": {},
   "source": [
    "<h1>28. List Manipulation</h1>"
   ]
  },
  {
   "cell_type": "code",
   "execution_count": 88,
   "id": "acd77406-f75b-46a5-b20a-34f2b3a9b995",
   "metadata": {},
   "outputs": [
    {
     "name": "stdin",
     "output_type": "stream",
     "text": [
      "Enter a list of numbers separated by spaces:  1 3 5 8 12 30\n"
     ]
    },
    {
     "name": "stdout",
     "output_type": "stream",
     "text": [
      "Sum: 59\n",
      "Average: 9.833333333333334\n",
      "Maximum: 30\n",
      "Minimum: 1\n"
     ]
    }
   ],
   "source": [
    "# List Manipulation\n",
    "numbers = list(map(int, input(\"Enter a list of numbers separated by spaces: \").split()))\n",
    "sum_numbers = sum(numbers)\n",
    "average = sum_numbers / len(numbers)\n",
    "max_number = max(numbers)\n",
    "min_number = min(numbers)\n",
    "print(\"Sum:\", sum_numbers)\n",
    "print(\"Average:\", average)\n",
    "print(\"Maximum:\", max_number)\n",
    "print(\"Minimum:\", min_number)"
   ]
  },
  {
   "cell_type": "markdown",
   "id": "da3cf3e1-c5ec-4526-b993-589f0bf80486",
   "metadata": {},
   "source": [
    "<h1>29. Reverse String</h1>"
   ]
  },
  {
   "cell_type": "code",
   "execution_count": 93,
   "id": "b21f7721-d6fa-4488-8061-4f8481b1c306",
   "metadata": {},
   "outputs": [
    {
     "name": "stdin",
     "output_type": "stream",
     "text": [
      "Enter a string:  Hello\n"
     ]
    },
    {
     "name": "stdout",
     "output_type": "stream",
     "text": [
      "olleH"
     ]
    }
   ],
   "source": [
    "# Reverse String\n",
    "string = input(\"Enter a string: \")\n",
    "\n",
    "i = len(string) - 1\n",
    "while i >= 0:\n",
    "    print(string[i], end=\"\")\n",
    "    i -= 1"
   ]
  },
  {
   "cell_type": "markdown",
   "id": "38df6787-de50-4fe1-98e9-d08b5a44f4ac",
   "metadata": {},
   "source": [
    "<h1>30. Multiplication Table</h1>"
   ]
  },
  {
   "cell_type": "code",
   "execution_count": 96,
   "id": "711efc70-3074-42b7-b1a4-364bfef906c3",
   "metadata": {},
   "outputs": [
    {
     "name": "stdout",
     "output_type": "stream",
     "text": [
      "1 x 1 = 1\n",
      "1 x 2 = 2\n",
      "1 x 3 = 3\n",
      "1 x 4 = 4\n",
      "1 x 5 = 5\n",
      "1 x 6 = 6\n",
      "1 x 7 = 7\n",
      "1 x 8 = 8\n",
      "1 x 9 = 9\n",
      "1 x 10 = 10\n",
      "\n",
      "2 x 1 = 2\n",
      "2 x 2 = 4\n",
      "2 x 3 = 6\n",
      "2 x 4 = 8\n",
      "2 x 5 = 10\n",
      "2 x 6 = 12\n",
      "2 x 7 = 14\n",
      "2 x 8 = 16\n",
      "2 x 9 = 18\n",
      "2 x 10 = 20\n",
      "\n",
      "3 x 1 = 3\n",
      "3 x 2 = 6\n",
      "3 x 3 = 9\n",
      "3 x 4 = 12\n",
      "3 x 5 = 15\n",
      "3 x 6 = 18\n",
      "3 x 7 = 21\n",
      "3 x 8 = 24\n",
      "3 x 9 = 27\n",
      "3 x 10 = 30\n",
      "\n",
      "4 x 1 = 4\n",
      "4 x 2 = 8\n",
      "4 x 3 = 12\n",
      "4 x 4 = 16\n",
      "4 x 5 = 20\n",
      "4 x 6 = 24\n",
      "4 x 7 = 28\n",
      "4 x 8 = 32\n",
      "4 x 9 = 36\n",
      "4 x 10 = 40\n",
      "\n",
      "5 x 1 = 5\n",
      "5 x 2 = 10\n",
      "5 x 3 = 15\n",
      "5 x 4 = 20\n",
      "5 x 5 = 25\n",
      "5 x 6 = 30\n",
      "5 x 7 = 35\n",
      "5 x 8 = 40\n",
      "5 x 9 = 45\n",
      "5 x 10 = 50\n",
      "\n",
      "6 x 1 = 6\n",
      "6 x 2 = 12\n",
      "6 x 3 = 18\n",
      "6 x 4 = 24\n",
      "6 x 5 = 30\n",
      "6 x 6 = 36\n",
      "6 x 7 = 42\n",
      "6 x 8 = 48\n",
      "6 x 9 = 54\n",
      "6 x 10 = 60\n",
      "\n",
      "7 x 1 = 7\n",
      "7 x 2 = 14\n",
      "7 x 3 = 21\n",
      "7 x 4 = 28\n",
      "7 x 5 = 35\n",
      "7 x 6 = 42\n",
      "7 x 7 = 49\n",
      "7 x 8 = 56\n",
      "7 x 9 = 63\n",
      "7 x 10 = 70\n",
      "\n",
      "8 x 1 = 8\n",
      "8 x 2 = 16\n",
      "8 x 3 = 24\n",
      "8 x 4 = 32\n",
      "8 x 5 = 40\n",
      "8 x 6 = 48\n",
      "8 x 7 = 56\n",
      "8 x 8 = 64\n",
      "8 x 9 = 72\n",
      "8 x 10 = 80\n",
      "\n",
      "9 x 1 = 9\n",
      "9 x 2 = 18\n",
      "9 x 3 = 27\n",
      "9 x 4 = 36\n",
      "9 x 5 = 45\n",
      "9 x 6 = 54\n",
      "9 x 7 = 63\n",
      "9 x 8 = 72\n",
      "9 x 9 = 81\n",
      "9 x 10 = 90\n",
      "\n",
      "10 x 1 = 10\n",
      "10 x 2 = 20\n",
      "10 x 3 = 30\n",
      "10 x 4 = 40\n",
      "10 x 5 = 50\n",
      "10 x 6 = 60\n",
      "10 x 7 = 70\n",
      "10 x 8 = 80\n",
      "10 x 9 = 90\n",
      "10 x 10 = 100\n",
      "\n"
     ]
    }
   ],
   "source": [
    "# Multiplication Table\n",
    "for i in range(1, 11):\n",
    "    for j in range(1, 11):\n",
    "        print(f\"{i} x {j} = {i * j}\")\n",
    "    print()"
   ]
  },
  {
   "cell_type": "markdown",
   "id": "d8527d5b-6056-4bd1-a2e4-fbcc9449e559",
   "metadata": {},
   "source": [
    "<h1>31. Print Patterns</h1>"
   ]
  },
  {
   "cell_type": "code",
   "execution_count": 99,
   "id": "d279fa3c-60d9-4317-8ee1-717fd3992782",
   "metadata": {},
   "outputs": [
    {
     "name": "stdout",
     "output_type": "stream",
     "text": [
      "*\n",
      "**\n",
      "***\n",
      "****\n",
      "*****\n"
     ]
    }
   ],
   "source": [
    "# Print Patterns\n",
    "N = 5\n",
    "for i in range(1, N + 1):\n",
    "    print('*' * i)"
   ]
  },
  {
   "cell_type": "markdown",
   "id": "2fc11205-f525-4871-915b-7ed2bf05350c",
   "metadata": {},
   "source": [
    "<h1>32. Matrix Multiplication</h1>"
   ]
  },
  {
   "cell_type": "code",
   "execution_count": 102,
   "id": "9b2b3048-851b-4874-81d1-e79d68cbaf6a",
   "metadata": {},
   "outputs": [
    {
     "name": "stdout",
     "output_type": "stream",
     "text": [
      "[30, 24, 18]\n",
      "[84, 69, 54]\n",
      "[138, 114, 90]\n"
     ]
    }
   ],
   "source": [
    "# Matrix Multiplication\n",
    "X = [[1, 2, 3],\n",
    "     [4, 5, 6],\n",
    "     [7, 8, 9]]\n",
    "\n",
    "Y = [[9, 8, 7],\n",
    "     [6, 5, 4],\n",
    "     [3, 2, 1]]\n",
    "\n",
    "result = [[0, 0, 0],\n",
    "          [0, 0, 0],\n",
    "          [0, 0, 0]]\n",
    "\n",
    "for i in range(len(X)):\n",
    "    for j in range(len(Y[0])):\n",
    "        for k in range(len(Y)):\n",
    "            result[i][j] += X[i][k] * Y[k][j]\n",
    "\n",
    "for r in result:\n",
    "    print(r)"
   ]
  },
  {
   "cell_type": "markdown",
   "id": "9e662f49-e263-4030-a454-6d6f928725bc",
   "metadata": {},
   "source": [
    "<h1>33. Chessboard Pattern</h1>"
   ]
  },
  {
   "cell_type": "code",
   "execution_count": 105,
   "id": "75d503ce-7049-4ebd-8ad4-f59dc9db9c6b",
   "metadata": {},
   "outputs": [
    {
     "name": "stdout",
     "output_type": "stream",
     "text": [
      "X O X O X O X O \n",
      "O X O X O X O X \n",
      "X O X O X O X O \n",
      "O X O X O X O X \n",
      "X O X O X O X O \n",
      "O X O X O X O X \n",
      "X O X O X O X O \n",
      "O X O X O X O X \n"
     ]
    }
   ],
   "source": [
    "# Chessboard Pattern\n",
    "N = 8\n",
    "for i in range(N):\n",
    "    for j in range(N):\n",
    "        if (i + j) % 2 == 0:\n",
    "            print(\"X\", end=\" \")\n",
    "        else:\n",
    "            print(\"O\", end=\" \")\n",
    "    print()"
   ]
  },
  {
   "cell_type": "markdown",
   "id": "a1593639-1021-4544-b2e9-362294342242",
   "metadata": {},
   "source": [
    "<h1>34. Number Pyramid</h1>"
   ]
  },
  {
   "cell_type": "code",
   "execution_count": 109,
   "id": "5e9c3849-9c72-457c-9762-817c694c2678",
   "metadata": {},
   "outputs": [
    {
     "name": "stdout",
     "output_type": "stream",
     "text": [
      "1\n",
      "22\n",
      "333\n",
      "4444\n",
      "55555\n"
     ]
    }
   ],
   "source": [
    "# Number Pyramid\n",
    "N = 5\n",
    "for i in range(1, N + 1):\n",
    "    print(str(i) * i)"
   ]
  },
  {
   "cell_type": "markdown",
   "id": "5b17fd19-a382-4a28-802e-21cbdc7f82b0",
   "metadata": {},
   "source": [
    "<h1>34. List Sum</h1>"
   ]
  },
  {
   "cell_type": "code",
   "execution_count": 112,
   "id": "ab297bfb-669e-45f2-a332-9b5c7b220cf9",
   "metadata": {},
   "outputs": [
    {
     "name": "stdin",
     "output_type": "stream",
     "text": [
      "Enter a list of numbers separated by spaces:  4 5 8 9 2 11\n"
     ]
    },
    {
     "name": "stdout",
     "output_type": "stream",
     "text": [
      "Sum of all elements in the list is: 39\n"
     ]
    }
   ],
   "source": [
    "# List Sum\n",
    "numbers = list(map(int, input(\"Enter a list of numbers separated by spaces: \").split()))\n",
    "sum_numbers = sum(numbers)\n",
    "print(\"Sum of all elements in the list is:\", sum_numbers)"
   ]
  },
  {
   "cell_type": "markdown",
   "id": "fbe6216a-8edd-46b4-b1f7-f1aba3b819a4",
   "metadata": {},
   "source": [
    "<h1>35. List Average</h1>"
   ]
  },
  {
   "cell_type": "code",
   "execution_count": 115,
   "id": "be8641b8-e5e8-462e-950f-8e74fc13d6e6",
   "metadata": {},
   "outputs": [
    {
     "name": "stdin",
     "output_type": "stream",
     "text": [
      "Enter a list of numbers separated by spaces:  3 5 7 4 8\n"
     ]
    },
    {
     "name": "stdout",
     "output_type": "stream",
     "text": [
      "Average of all elements in the list is: 5.4\n"
     ]
    }
   ],
   "source": [
    "# List Average\n",
    "numbers = list(map(int, input(\"Enter a list of numbers separated by spaces: \").split()))\n",
    "average = sum(numbers) / len(numbers)\n",
    "print(\"Average of all elements in the list is:\", average)"
   ]
  },
  {
   "cell_type": "markdown",
   "id": "2cd29680-354d-48a4-a4b6-485a54e19246",
   "metadata": {},
   "source": [
    "<h1>36. List Max and Min</h1>"
   ]
  },
  {
   "cell_type": "code",
   "execution_count": 118,
   "id": "986351ca-e471-4f0b-bcc4-3127d9c43a26",
   "metadata": {},
   "outputs": [
    {
     "name": "stdin",
     "output_type": "stream",
     "text": [
      "Enter a list of numbers separated by spaces:  3 5 7 4 8\n"
     ]
    },
    {
     "name": "stdout",
     "output_type": "stream",
     "text": [
      "Maximum value in the list is: 8\n",
      "Minimum value in the list is: 3\n"
     ]
    }
   ],
   "source": [
    "# List Max and Min\n",
    "numbers = list(map(int, input(\"Enter a list of numbers separated by spaces: \").split()))\n",
    "max_number = max(numbers)\n",
    "min_number = min(numbers)\n",
    "print(\"Maximum value in the list is:\", max_number)\n",
    "print(\"Minimum value in the list is:\", min_number)"
   ]
  },
  {
   "cell_type": "markdown",
   "id": "c175a522-e410-44d6-af4f-7cc2cd6e4cbe",
   "metadata": {},
   "source": [
    "<h1>37. List Sorting</h1>"
   ]
  },
  {
   "cell_type": "code",
   "execution_count": 121,
   "id": "97247f12-c442-4d6e-8d61-2c05c9af027c",
   "metadata": {},
   "outputs": [
    {
     "name": "stdin",
     "output_type": "stream",
     "text": [
      "Enter a list of numbers separated by spaces:  3 5 7 4 8\n"
     ]
    },
    {
     "name": "stdout",
     "output_type": "stream",
     "text": [
      "Sorted list in ascending order is: [3, 4, 5, 7, 8]\n"
     ]
    }
   ],
   "source": [
    "# List Sorting\n",
    "numbers = list(map(int, input(\"Enter a list of numbers separated by spaces: \").split()))\n",
    "numbers.sort()\n",
    "print(\"Sorted list in ascending order is:\", numbers)"
   ]
  },
  {
   "cell_type": "markdown",
   "id": "0a78f473-fda6-46ff-a3a4-41fdbf8879c4",
   "metadata": {},
   "source": [
    "<h1>38. List Filtering</h1>"
   ]
  },
  {
   "cell_type": "code",
   "execution_count": 124,
   "id": "b0696cb7-4d92-4c2d-95cd-02f2b9146ccd",
   "metadata": {},
   "outputs": [
    {
     "name": "stdin",
     "output_type": "stream",
     "text": [
      "Enter a list of numbers separated by spaces:  3 5 7 4 8\n"
     ]
    },
    {
     "name": "stdout",
     "output_type": "stream",
     "text": [
      "List of even numbers is: [4, 8]\n"
     ]
    }
   ],
   "source": [
    "# List Filtering\n",
    "numbers = list(map(int, input(\"Enter a list of numbers separated by spaces: \").split()))\n",
    "even_numbers = [num for num in numbers if num % 2 == 0]\n",
    "print(\"List of even numbers is:\", even_numbers)"
   ]
  },
  {
   "cell_type": "markdown",
   "id": "3e8db034-89d2-4a79-9c51-86fff145f6bb",
   "metadata": {},
   "source": [
    "<h1>39. List Reversal</h1>"
   ]
  },
  {
   "cell_type": "code",
   "execution_count": 127,
   "id": "b7dd92cb-cfad-4b4d-af1b-fb59ff8c4427",
   "metadata": {},
   "outputs": [
    {
     "name": "stdin",
     "output_type": "stream",
     "text": [
      "Enter a list of numbers separated by spaces:  3 5 7 4 8\n"
     ]
    },
    {
     "name": "stdout",
     "output_type": "stream",
     "text": [
      "Reversed list is: [8, 4, 7, 5, 3]\n"
     ]
    }
   ],
   "source": [
    "# List Reversal\n",
    "numbers = list(map(int, input(\"Enter a list of numbers separated by spaces: \").split()))\n",
    "reversed_list = []\n",
    "for i in range(len(numbers) - 1, -1, -1):\n",
    "    reversed_list.append(numbers[i])\n",
    "print(\"Reversed list is:\", reversed_list)"
   ]
  },
  {
   "cell_type": "markdown",
   "id": "18bee4f8-890c-46d7-8148-458930680c0b",
   "metadata": {},
   "source": [
    "<h1>40. List Manipulation</h1>"
   ]
  },
  {
   "cell_type": "code",
   "execution_count": 130,
   "id": "b385e638-eef8-42f3-aa10-d69807a20ded",
   "metadata": {},
   "outputs": [
    {
     "name": "stdin",
     "output_type": "stream",
     "text": [
      "Enter the first list of numbers separated by spaces:  3 5 7 4 8\n",
      "Enter the second list of numbers separated by spaces:  4 9 10 12 15\n"
     ]
    },
    {
     "name": "stdout",
     "output_type": "stream",
     "text": [
      "Common elements in both lists are: [4]\n"
     ]
    }
   ],
   "source": [
    "# List Manipulation\n",
    "list1 = list(map(int, input(\"Enter the first list of numbers separated by spaces: \").split()))\n",
    "list2 = list(map(int, input(\"Enter the second list of numbers separated by spaces: \").split()))\n",
    "common_elements = [num for num in list1 if num in list2]\n",
    "print(\"Common elements in both lists are:\", common_elements)"
   ]
  },
  {
   "cell_type": "markdown",
   "id": "eaf95f66-9202-48b3-801e-44caf3ad2912",
   "metadata": {},
   "source": [
    "<h1>41. List Element Count</h1>"
   ]
  },
  {
   "cell_type": "code",
   "execution_count": 133,
   "id": "3dc3f670-c03a-4710-8533-850646ff437b",
   "metadata": {},
   "outputs": [
    {
     "name": "stdin",
     "output_type": "stream",
     "text": [
      "Enter a list of numbers separated by spaces:  3 5 7 4 8\n",
      "Enter the element to count:  5\n"
     ]
    },
    {
     "name": "stdout",
     "output_type": "stream",
     "text": [
      "The element 5 occurs 1 times in the list.\n"
     ]
    }
   ],
   "source": [
    "# List Element Count\n",
    "numbers = list(map(int, input(\"Enter a list of numbers separated by spaces: \").split()))\n",
    "element = int(input(\"Enter the element to count: \"))\n",
    "count = numbers.count(element)\n",
    "print(f\"The element {element} occurs {count} times in the list.\")"
   ]
  },
  {
   "cell_type": "markdown",
   "id": "d3f770e3-3458-4638-8ce4-4aa295ab50df",
   "metadata": {},
   "source": [
    "<h1>42. List Duplicates Removal</h1>"
   ]
  },
  {
   "cell_type": "code",
   "execution_count": 138,
   "id": "a9d0719c-b670-474f-afe4-9feadfde34d3",
   "metadata": {},
   "outputs": [
    {
     "name": "stdin",
     "output_type": "stream",
     "text": [
      "Enter a list of numbers separated by spaces:  3 5 7 4 8 3\n"
     ]
    },
    {
     "name": "stdout",
     "output_type": "stream",
     "text": [
      "List after removing duplicates is: [3, 5, 7, 4, 8]\n"
     ]
    }
   ],
   "source": [
    "# List Duplicates Removal\n",
    "numbers = list(map(int, input(\"Enter a list of numbers separated by spaces: \").split()))\n",
    "unique_numbers = []\n",
    "for num in numbers:\n",
    "    if num not in unique_numbers:\n",
    "        unique_numbers.append(num)\n",
    "print(\"List after removing duplicates is:\", unique_numbers)"
   ]
  },
  {
   "cell_type": "markdown",
   "id": "02fd7588-14f7-4244-b59b-a5d737ef67c9",
   "metadata": {},
   "source": [
    "<h1>43. List Comprehension</h1>"
   ]
  },
  {
   "cell_type": "code",
   "execution_count": 141,
   "id": "7a95fe77-d3fc-4886-85cd-5082b3b24115",
   "metadata": {},
   "outputs": [
    {
     "name": "stdin",
     "output_type": "stream",
     "text": [
      "Enter a list of numbers separated by spaces:  3 5 7 4 8\n"
     ]
    },
    {
     "name": "stdout",
     "output_type": "stream",
     "text": [
      "List of squares of the elements is: [9, 25, 49, 16, 64]\n"
     ]
    }
   ],
   "source": [
    "# List Comprehension\n",
    "numbers = list(map(int, input(\"Enter a list of numbers separated by spaces: \").split()))\n",
    "squared_numbers = [num ** 2 for num in numbers]\n",
    "print(\"List of squares of the elements is:\", squared_numbers)"
   ]
  },
  {
   "cell_type": "markdown",
   "id": "8f532b62-50f0-47c5-8d73-ba952c733123",
   "metadata": {},
   "source": [
    "<h1>44. Matrix Addition</h1>"
   ]
  },
  {
   "cell_type": "code",
   "execution_count": 144,
   "id": "9700917c-da17-4d40-b022-40a9487cb499",
   "metadata": {},
   "outputs": [
    {
     "name": "stdout",
     "output_type": "stream",
     "text": [
      "[[10, 10, 10], [10, 10, 10], [10, 10, 10]]\n"
     ]
    }
   ],
   "source": [
    "#Matrix Addition: Write a Python program to add two matrices represented as nested lists.\n",
    "\n",
    "def add_matrices(matrix1, matrix2):\n",
    "    result = [[matrix1[i][j] + matrix2[i][j] for j in range(len(matrix1[0]))] for i in range(len(matrix1))]\n",
    "    return result\n",
    "\n",
    "# Example usage:\n",
    "matrix1 = [[1, 2, 3], [4, 5, 6], [7, 8, 9]]\n",
    "matrix2 = [[9, 8, 7], [6, 5, 4], [3, 2, 1]]\n",
    "print(add_matrices(matrix1, matrix2))"
   ]
  },
  {
   "cell_type": "markdown",
   "id": "eb5afe4b-711b-4846-b222-bb5cdf71c738",
   "metadata": {},
   "source": [
    "<h1>45. Flatten Nested List</h1>"
   ]
  },
  {
   "cell_type": "code",
   "execution_count": 147,
   "id": "606f21bb-acdb-46cb-a8f6-b36ad7a6a985",
   "metadata": {},
   "outputs": [
    {
     "name": "stdout",
     "output_type": "stream",
     "text": [
      "[1, 2, 3, 4, 5, 6, 7, 8, 9]\n"
     ]
    }
   ],
   "source": [
    "#Flatten Nested List: Write a Python program to flatten a given nested list and convert it into a single-dimensional list.\n",
    "\n",
    "def flatten_nested_list(nested_list):\n",
    "    flat_list = [item for sublist in nested_list for item in sublist]\n",
    "    return flat_list\n",
    "\n",
    "# Example usage:\n",
    "nested_list = [[1, 2, 3], [4, 5], [6, 7, 8, 9]]\n",
    "print(flatten_nested_list(nested_list))"
   ]
  },
  {
   "cell_type": "markdown",
   "id": "1ab6705f-217b-444e-b612-148e69e30839",
   "metadata": {},
   "source": [
    "<h1>46. List Element Frequency</h1>"
   ]
  },
  {
   "cell_type": "code",
   "execution_count": 150,
   "id": "da4916b5-4457-485a-ad21-1180c79cc838",
   "metadata": {},
   "outputs": [
    {
     "name": "stdout",
     "output_type": "stream",
     "text": [
      "Counter({4: 3, 2: 2, 6: 2, 1: 1, 3: 1, 5: 1})\n"
     ]
    }
   ],
   "source": [
    "#. List Element Frequency: Given a nested list containing lists of integers, write a Python program to count the frequency of each element in the entire nested list.\n",
    "\n",
    "\n",
    "from collections import Counter\n",
    "\n",
    "def element_frequency(nested_list):\n",
    "    flat_list = [item for sublist in nested_list for item in sublist]\n",
    "    frequency = Counter(flat_list)\n",
    "    return frequency\n",
    "\n",
    "# Example usage:\n",
    "nested_list = [[1, 2, 2], [3, 4, 4, 4], [5, 6, 6]]\n",
    "print(element_frequency(nested_list))"
   ]
  },
  {
   "cell_type": "markdown",
   "id": "cd707795-bd56-473d-87cc-d0ed7f0ed17e",
   "metadata": {},
   "source": [
    "<h1>47. Transpose Matrix</h1>"
   ]
  },
  {
   "cell_type": "code",
   "execution_count": 153,
   "id": "2a7b0018-b5ad-418f-9b20-e4b84819e126",
   "metadata": {},
   "outputs": [
    {
     "name": "stdout",
     "output_type": "stream",
     "text": [
      "[[1, 4, 7], [2, 5, 8], [3, 6, 9]]\n"
     ]
    }
   ],
   "source": [
    "# Transpose Matrix: Write a Python program to transpose a given matrix represented as a nested list.\n",
    "\n",
    "def transpose_matrix(matrix):\n",
    "    transposed = [[matrix[j][i] for j in range(len(matrix))] for i in range(len(matrix[0]))]\n",
    "    return transposed\n",
    "\n",
    "# Example usage:\n",
    "matrix = [[1, 2, 3], [4, 5, 6], [7, 8, 9]]\n",
    "print(transpose_matrix(matrix))"
   ]
  },
  {
   "cell_type": "markdown",
   "id": "7f976067-e724-42ae-8d84-1c8c3865c0f1",
   "metadata": {},
   "source": [
    "<h1>48. List of Lists Concatenation</h1>"
   ]
  },
  {
   "cell_type": "code",
   "execution_count": 156,
   "id": "a7657eb8-7d7e-460f-ba8c-f22730d4bc54",
   "metadata": {},
   "outputs": [
    {
     "name": "stdout",
     "output_type": "stream",
     "text": [
      "[1, 2, 3, 4, 5, 6, 7, 8, 9]\n"
     ]
    }
   ],
   "source": [
    "#List of Lists Concatenation: Given a list of nested lists, write a Python program to concatenate all the sublists into a single flat list.\n",
    "\n",
    "def concatenate_lists(nested_list):\n",
    "    concatenated_list = [item for sublist in nested_list for item in sublist]\n",
    "    return concatenated_list\n",
    "\n",
    "# Example usage:\n",
    "nested_list = [[1, 2, 3], [4, 5], [6, 7, 8, 9]]\n",
    "print(concatenate_lists(nested_list))"
   ]
  },
  {
   "cell_type": "markdown",
   "id": "651e8dfd-7454-4417-85a0-0abe66d92289",
   "metadata": {},
   "source": [
    "<h1>49. Tuple Concatenation</h1>"
   ]
  },
  {
   "cell_type": "code",
   "execution_count": 159,
   "id": "71bfffa7-8f72-4d42-bc03-259c7e24fb8c",
   "metadata": {},
   "outputs": [
    {
     "name": "stdout",
     "output_type": "stream",
     "text": [
      "(1, 2, 3, 4, 5, 6)\n"
     ]
    }
   ],
   "source": [
    "def concatenate_tuples(tuple1, tuple2):\n",
    "    return tuple1 + tuple2\n",
    "\n",
    "# Example usage:\n",
    "tuple1 = (1, 2, 3)\n",
    "tuple2 = (4, 5, 6)\n",
    "print(concatenate_tuples(tuple1, tuple2))"
   ]
  },
  {
   "cell_type": "markdown",
   "id": "aa85ab23-1c85-4d3c-b69f-20dc534b8956",
   "metadata": {},
   "source": [
    "<h1>50. Tuple Unpacking</h1>"
   ]
  },
  {
   "cell_type": "code",
   "execution_count": 162,
   "id": "5fedd96d-4158-4333-9801-b01d9954c945",
   "metadata": {},
   "outputs": [
    {
     "name": "stdout",
     "output_type": "stream",
     "text": [
      "1 2 3\n"
     ]
    }
   ],
   "source": [
    "def unpack_tuple(t):\n",
    "    x, y, z = t\n",
    "    return x, y, z\n",
    "\n",
    "# Example usage:\n",
    "t = (1, 2, 3)\n",
    "x, y, z = unpack_tuple(t)\n",
    "print(x, y, z)"
   ]
  },
  {
   "cell_type": "markdown",
   "id": "70b14b75-5bb1-4109-9356-9730d47499bc",
   "metadata": {},
   "source": [
    "<h1>51. Tuple Sorting</h1>"
   ]
  },
  {
   "cell_type": "code",
   "execution_count": 165,
   "id": "b54df076-2e27-42bd-a568-e1540b1f2bb2",
   "metadata": {},
   "outputs": [
    {
     "name": "stdout",
     "output_type": "stream",
     "text": [
      "(1, 2, 3)\n"
     ]
    }
   ],
   "source": [
    "def sort_tuple(t):\n",
    "    return tuple(sorted(t))\n",
    "\n",
    "# Example usage:\n",
    "t = (3, 1, 2)\n",
    "print(sort_tuple(t))"
   ]
  },
  {
   "cell_type": "markdown",
   "id": "4f002833-c799-455c-a239-7a536df6ccd6",
   "metadata": {},
   "source": [
    "<h1>52. Tuple Frequency Count</h1>"
   ]
  },
  {
   "cell_type": "code",
   "execution_count": 168,
   "id": "3cd401e7-52fb-4090-9e93-6e551ffdac46",
   "metadata": {},
   "outputs": [
    {
     "name": "stdout",
     "output_type": "stream",
     "text": [
      "3\n"
     ]
    }
   ],
   "source": [
    "def count_frequency(t, element):\n",
    "    return t.count(element)\n",
    "\n",
    "# Example usage:\n",
    "t = (1, 2, 2, 3, 3, 3)\n",
    "element = 3\n",
    "print(count_frequency(t, element))"
   ]
  },
  {
   "cell_type": "markdown",
   "id": "4715831d-619f-41e1-8cd6-68ad44434b97",
   "metadata": {},
   "source": [
    "<h1>53. Tuple to List</h1>"
   ]
  },
  {
   "cell_type": "code",
   "execution_count": 171,
   "id": "8f6b51f3-e5d7-4edf-9245-3e97ad1e5661",
   "metadata": {},
   "outputs": [
    {
     "name": "stdout",
     "output_type": "stream",
     "text": [
      "[1, 2, 3]\n"
     ]
    }
   ],
   "source": [
    "def tuple_to_list(t):\n",
    "    return list(t)\n",
    "\n",
    "# Example usage:\n",
    "t = (1, 2, 3)\n",
    "print(tuple_to_list(t))"
   ]
  },
  {
   "cell_type": "markdown",
   "id": "ee5b6034-b776-4893-8742-4bb5bb3d4fa0",
   "metadata": {},
   "source": [
    "<h1>54. Tuple Reversal</h1>"
   ]
  },
  {
   "cell_type": "code",
   "execution_count": 174,
   "id": "6c38b2bf-c1a4-4c77-92cc-dc65f92fbd40",
   "metadata": {},
   "outputs": [
    {
     "name": "stdout",
     "output_type": "stream",
     "text": [
      "(3, 2, 1)\n"
     ]
    }
   ],
   "source": [
    "def reverse_tuple(t):\n",
    "    return t[::-1]\n",
    "\n",
    "# Example usage:\n",
    "t = (1, 2, 3)\n",
    "print(reverse_tuple(t))"
   ]
  },
  {
   "cell_type": "markdown",
   "id": "75eab52c-e098-4d9a-a613-425b311e6512",
   "metadata": {},
   "source": [
    "<h1>55. Tuple Slicing</h1>"
   ]
  },
  {
   "cell_type": "code",
   "execution_count": 177,
   "id": "7f4677ac-320d-4810-a950-8ccb3b2ec26c",
   "metadata": {},
   "outputs": [
    {
     "name": "stdout",
     "output_type": "stream",
     "text": [
      "(2, 3, 4)\n"
     ]
    }
   ],
   "source": [
    "def slice_tuple(t, start, end):\n",
    "    return t[start:end]\n",
    "\n",
    "# Example usage:\n",
    "t = (1, 2, 3, 4, 5)\n",
    "print(slice_tuple(t, 1, 4))"
   ]
  },
  {
   "cell_type": "markdown",
   "id": "04b54a85-09a4-4ac2-89c7-36e996322d0e",
   "metadata": {},
   "source": [
    "<h1>56. Tuple Operations</h1>"
   ]
  },
  {
   "cell_type": "code",
   "execution_count": 180,
   "id": "43ed49f8-3501-4c3e-a19a-da084537fc8a",
   "metadata": {},
   "outputs": [
    {
     "name": "stdout",
     "output_type": "stream",
     "text": [
      "((5, 7, 9), (-3, -3, -3), (4, 10, 18))\n"
     ]
    }
   ],
   "source": [
    "def tuple_operations(tuple1, tuple2):\n",
    "    addition = tuple(a + b for a, b in zip(tuple1, tuple2))\n",
    "    subtraction = tuple(a - b for a, b in zip(tuple1, tuple2))\n",
    "    multiplication = tuple(a * b for a, b in zip(tuple1, tuple2))\n",
    "    return addition, subtraction, multiplication\n",
    "\n",
    "# Example usage:\n",
    "tuple1 = (1, 2, 3)\n",
    "tuple2 = (4, 5, 6)\n",
    "print(tuple_operations(tuple1, tuple2))"
   ]
  },
  {
   "cell_type": "markdown",
   "id": "32470dfe-be16-4378-a218-a078bc5f7e69",
   "metadata": {},
   "source": [
    "<h1>57. Tuple Membership Test</h1>"
   ]
  },
  {
   "cell_type": "code",
   "execution_count": 183,
   "id": "45c863c9-a869-4a61-9ab1-4648c4d8d435",
   "metadata": {},
   "outputs": [
    {
     "name": "stdout",
     "output_type": "stream",
     "text": [
      "True\n"
     ]
    }
   ],
   "source": [
    "def check_membership(t, element):\n",
    "    return element in t\n",
    "\n",
    "# Example usage:\n",
    "t = (1, 2, 3)\n",
    "element = 2\n",
    "print(check_membership(t, element))"
   ]
  },
  {
   "cell_type": "markdown",
   "id": "2448f37c-66e0-4d7b-9c4a-1dc0ea27f90e",
   "metadata": {},
   "source": [
    "<h1>58. Tuple Packing</h1>"
   ]
  },
  {
   "cell_type": "code",
   "execution_count": 186,
   "id": "f701a967-d6a5-4a96-ab0a-82d77b07d49c",
   "metadata": {},
   "outputs": [
    {
     "name": "stdout",
     "output_type": "stream",
     "text": [
      "(1, 2, 3)\n"
     ]
    }
   ],
   "source": [
    "def pack_tuple(x, y, z):\n",
    "    return (x, y, z)\n",
    "\n",
    "# Example usage:\n",
    "x, y, z = 1, 2, 3\n",
    "print(pack_tuple(x, y, z))"
   ]
  },
  {
   "cell_type": "markdown",
   "id": "47a51893-5e60-40da-b439-1ef55ffd1329",
   "metadata": {},
   "source": [
    "<h1>59. Nested List Element Access</h1>"
   ]
  },
  {
   "cell_type": "code",
   "execution_count": 189,
   "id": "ae5e6871-1d9c-44be-a054-2d6a45d0ffda",
   "metadata": {},
   "outputs": [
    {
     "name": "stdout",
     "output_type": "stream",
     "text": [
      "6\n"
     ]
    }
   ],
   "source": [
    "def access_elements(nested_list, row, col):\n",
    "    return nested_list[row][col]\n",
    "\n",
    "# Example usage:\n",
    "nested_list = [[1, 2, 3], [4, 5, 6], [7, 8, 9]]\n",
    "print(access_elements(nested_list, 1, 2))  # Output: 6"
   ]
  },
  {
   "cell_type": "markdown",
   "id": "22454eae-51eb-47a9-845e-bee3a5b197c0",
   "metadata": {},
   "source": [
    "<h1>60. Nested List Flattening</h1>"
   ]
  },
  {
   "cell_type": "code",
   "execution_count": 192,
   "id": "c644bb7b-f6c5-4417-8cce-ee41e437eb89",
   "metadata": {},
   "outputs": [
    {
     "name": "stdout",
     "output_type": "stream",
     "text": [
      "[1, 2, 3, 4, 5, 6, 7, 8, 9]\n"
     ]
    }
   ],
   "source": [
    "def flatten_nested_list(nested_list):\n",
    "    flat_list = [item for sublist in nested_list for item in sublist]\n",
    "    return flat_list\n",
    "\n",
    "# Example usage:\n",
    "nested_list = [[1, 2, 3], [4, 5], [6, 7, 8, 9]]\n",
    "print(flatten_nested_list(nested_list))"
   ]
  },
  {
   "cell_type": "markdown",
   "id": "6f45d20c-ba5e-4a0e-8880-597449e89144",
   "metadata": {},
   "source": [
    "<h1>61. Nested List Sorting</h1>"
   ]
  },
  {
   "cell_type": "code",
   "execution_count": 195,
   "id": "2759441b-7c76-4788-8dc3-241be7810b82",
   "metadata": {},
   "outputs": [
    {
     "name": "stdout",
     "output_type": "stream",
     "text": [
      "[[4, 5], [1, 2, 3], [6, 7, 8, 9]]\n"
     ]
    }
   ],
   "source": [
    "def sort_nested_list(nested_list):\n",
    "    return sorted(nested_list, key=len)\n",
    "\n",
    "# Example usage:\n",
    "nested_list = [[1, 2, 3], [4, 5], [6, 7, 8, 9]]\n",
    "print(sort_nested_list(nested_list))"
   ]
  },
  {
   "cell_type": "markdown",
   "id": "42cc04ba-ddc8-42bf-a218-314ef4ca4a37",
   "metadata": {},
   "source": [
    "<h1>62. List of Tuples Conversion</h1>"
   ]
  },
  {
   "cell_type": "code",
   "execution_count": 198,
   "id": "307e4475-d4b6-4f88-9d4f-e3b8c7cf560b",
   "metadata": {},
   "outputs": [
    {
     "name": "stdout",
     "output_type": "stream",
     "text": [
      "([1, 3, 5], [2, 4, 6])\n"
     ]
    }
   ],
   "source": [
    "def convert_to_coordinates(nested_list):\n",
    "    x_coords = [x for x, y in nested_list]\n",
    "    y_coords = [y for x, y in nested_list]\n",
    "    return x_coords, y_coords\n",
    "\n",
    "# Example usage:\n",
    "nested_list = [(1, 2), (3, 4), (5, 6)]\n",
    "print(convert_to_coordinates(nested_list))"
   ]
  },
  {
   "cell_type": "markdown",
   "id": "759a513a-1f5e-4025-b8d5-168f9c50de2c",
   "metadata": {},
   "source": [
    "<h1>63. Matrix Transpose</h1>"
   ]
  },
  {
   "cell_type": "code",
   "execution_count": 201,
   "id": "1ab8e6ee-12da-45d9-a10b-062a8178d5ab",
   "metadata": {},
   "outputs": [
    {
     "name": "stdout",
     "output_type": "stream",
     "text": [
      "[[1, 4, 7], [2, 5, 8], [3, 6, 9]]\n"
     ]
    }
   ],
   "source": [
    "def transpose_matrix(matrix):\n",
    "    transposed = [[matrix[j][i] for j in range(len(matrix))] for i in range(len(matrix[0]))]\n",
    "    return transposed\n",
    "\n",
    "# Example usage:\n",
    "matrix = [[1, 2, 3], [4, 5, 6], [7, 8, 9]]\n",
    "print(transpose_matrix(matrix))"
   ]
  },
  {
   "cell_type": "markdown",
   "id": "416a46c1-f794-4ecd-8a83-eddf155389db",
   "metadata": {},
   "source": [
    "<h1>64. Nested List Concatenation</h1>"
   ]
  },
  {
   "cell_type": "code",
   "execution_count": 204,
   "id": "4e0d33df-1bb2-414b-a469-ea2063c591c0",
   "metadata": {},
   "outputs": [
    {
     "name": "stdout",
     "output_type": "stream",
     "text": [
      "[1, 2, 3, 4, 5, 6, 7, 8, 9]\n"
     ]
    }
   ],
   "source": [
    "def concatenate_nested_lists(nested_list):\n",
    "    concatenated_list = [item for sublist in nested_list for item in sublist]\n",
    "    return concatenated_list\n",
    "\n",
    "# Example usage:\n",
    "nested_list = [[1, 2, 3], [4, 5], [6, 7, 8, 9]]\n",
    "print(concatenate_nested_lists(nested_list))"
   ]
  },
  {
   "cell_type": "markdown",
   "id": "157bb732-384a-4f64-8073-209572293dbc",
   "metadata": {},
   "source": [
    "<h1>65. Count Even Numbers</h1>"
   ]
  },
  {
   "cell_type": "code",
   "execution_count": 207,
   "id": "255ff513-cbe1-428a-8863-c18c9e5f18eb",
   "metadata": {},
   "outputs": [
    {
     "name": "stdout",
     "output_type": "stream",
     "text": [
      "4\n"
     ]
    }
   ],
   "source": [
    "def count_even_numbers(nested_list):\n",
    "    even_count = sum(1 for sublist in nested_list for item in sublist if item % 2 == 0)\n",
    "    return even_count\n",
    "\n",
    "# Example usage:\n",
    "nested_list = [[1, 2, 3], [4, 5], [6, 7, 8, 9]]\n",
    "print(count_even_numbers(nested_list))"
   ]
  },
  {
   "cell_type": "markdown",
   "id": "ddf4eb22-e2b0-468f-a4a9-485af8ee8eef",
   "metadata": {},
   "source": [
    "<h1>66. Maximum Element in Nested List</h1>"
   ]
  },
  {
   "cell_type": "code",
   "execution_count": 210,
   "id": "7c09ecd2-601e-4b1f-9764-bb6373b94463",
   "metadata": {},
   "outputs": [
    {
     "name": "stdout",
     "output_type": "stream",
     "text": [
      "9\n"
     ]
    }
   ],
   "source": [
    "def max_element(nested_list):\n",
    "    return max(max(sublist) for sublist in nested_list)\n",
    "\n",
    "# Example usage:\n",
    "nested_list = [[1, 2, 3], [4, 5], [6, 7, 8, 9]]\n",
    "print(max_element(nested_list))"
   ]
  },
  {
   "cell_type": "markdown",
   "id": "9a0bcb47-985e-4a52-a8eb-a889c5c01da4",
   "metadata": {},
   "source": [
    "<h1>67. Diagonal Sum of Matrix</h1>"
   ]
  },
  {
   "cell_type": "code",
   "execution_count": 213,
   "id": "c3d0a428-ae9b-48da-b4fb-3681b564a10f",
   "metadata": {},
   "outputs": [
    {
     "name": "stdout",
     "output_type": "stream",
     "text": [
      "15\n"
     ]
    }
   ],
   "source": [
    "def diagonal_sum(matrix):\n",
    "    return sum(matrix[i][i] for i in range(len(matrix)))\n",
    "\n",
    "# Example usage:\n",
    "matrix = [[1, 2, 3], [4, 5, 6], [7, 8, 9]]\n",
    "print(diagonal_sum(matrix))"
   ]
  },
  {
   "cell_type": "markdown",
   "id": "f2d5a1e4-b531-4ad2-80b0-65b144a08120",
   "metadata": {},
   "source": [
    "<h1>68. Nested List Element Search</h1>"
   ]
  },
  {
   "cell_type": "code",
   "execution_count": 216,
   "id": "2219c4da-0d29-4ef9-b3cd-13bf6ac4c9ef",
   "metadata": {},
   "outputs": [
    {
     "name": "stdout",
     "output_type": "stream",
     "text": [
      "(1, 1)\n"
     ]
    }
   ],
   "source": [
    "def search_element(nested_list, element):\n",
    "    for i, sublist in enumerate(nested_list):\n",
    "        if element in sublist:\n",
    "            return i, sublist.index(element)\n",
    "    return None\n",
    "\n",
    "# Example usage:\n",
    "nested_list = [[1, 2, 3], [4, 5], [6, 7, 8, 9]]\n",
    "print(search_element(nested_list, 5))"
   ]
  },
  {
   "cell_type": "markdown",
   "id": "0daf6e8b-9a4b-481c-981b-b7123724ac92",
   "metadata": {},
   "source": [
    "<h1>69. Duplicate Removal</h1>"
   ]
  },
  {
   "cell_type": "code",
   "execution_count": 219,
   "id": "b7827939-cac1-4d8b-8c98-98dab0a9fffd",
   "metadata": {},
   "outputs": [
    {
     "name": "stdout",
     "output_type": "stream",
     "text": [
      "{1, 2, 3, 4, 5}\n"
     ]
    }
   ],
   "source": [
    "def remove_duplicates(input_list):\n",
    "    return set(input_list)\n",
    "\n",
    "# Example usage:\n",
    "input_list = [1, 2, 2, 3, 4, 4, 5]\n",
    "print(remove_duplicates(input_list))"
   ]
  },
  {
   "cell_type": "markdown",
   "id": "e3f06216-3290-4b9c-a538-e161fd938373",
   "metadata": {},
   "source": [
    "<h1>70. Set Intersection</h1>"
   ]
  },
  {
   "cell_type": "code",
   "execution_count": 222,
   "id": "52db2a8d-bc22-40ac-bac6-a4ee3849d64b",
   "metadata": {},
   "outputs": [
    {
     "name": "stdout",
     "output_type": "stream",
     "text": [
      "{2, 3}\n"
     ]
    }
   ],
   "source": [
    "def set_intersection(set_a, set_b):\n",
    "    return set_a & set_b\n",
    "\n",
    "# Example usage:\n",
    "set_a = {1, 2, 3}\n",
    "set_b = {2, 3, 4}\n",
    "print(set_intersection(set_a, set_b))"
   ]
  },
  {
   "cell_type": "markdown",
   "id": "c5b3e169-a70c-47ad-80e7-ac9016dee88b",
   "metadata": {},
   "source": [
    "<h1>71. Set Union</h1>"
   ]
  },
  {
   "cell_type": "code",
   "execution_count": 225,
   "id": "d092020c-2bf8-4b13-8020-29b743698e59",
   "metadata": {},
   "outputs": [
    {
     "name": "stdout",
     "output_type": "stream",
     "text": [
      "{1, 2, 3, 4, 5}\n"
     ]
    }
   ],
   "source": [
    "def set_union(set_a, set_b):\n",
    "    return set_a | set_b\n",
    "\n",
    "# Example usage:\n",
    "set_a = {1, 2, 3}\n",
    "set_b = {3, 4, 5}\n",
    "print(set_union(set_a, set_b))"
   ]
  },
  {
   "cell_type": "markdown",
   "id": "b1f364f0-0c1d-4149-9a95-8a1f50470ec1",
   "metadata": {},
   "source": [
    "<h1>72. Set Difference</h1>"
   ]
  },
  {
   "cell_type": "code",
   "execution_count": 228,
   "id": "1d51499a-3a53-4009-a5c8-92b51eed914d",
   "metadata": {},
   "outputs": [
    {
     "name": "stdout",
     "output_type": "stream",
     "text": [
      "{1}\n"
     ]
    }
   ],
   "source": [
    "def set_difference(set_a, set_b):\n",
    "    return set_a - set_b\n",
    "\n",
    "# Example usage:\n",
    "set_a = {1, 2, 3}\n",
    "set_b = {2, 3, 4}\n",
    "print(set_difference(set_a, set_b))"
   ]
  },
  {
   "cell_type": "markdown",
   "id": "8216cc13-06eb-4ca4-9e70-f3f2fa4342c1",
   "metadata": {},
   "source": [
    "<h1>73. Set Symmetric Difference</h1>"
   ]
  },
  {
   "cell_type": "code",
   "execution_count": 231,
   "id": "2ebc0a99-4213-4f00-9425-6bc0264bc7e9",
   "metadata": {},
   "outputs": [
    {
     "name": "stdout",
     "output_type": "stream",
     "text": [
      "{1, 4}\n"
     ]
    }
   ],
   "source": [
    "def set_symmetric_difference(set_a, set_b):\n",
    "    return set_a ^ set_b\n",
    "\n",
    "# Example usage:\n",
    "set_a = {1, 2, 3}\n",
    "set_b = {2, 3, 4}\n",
    "print(set_symmetric_difference(set_a, set_b))"
   ]
  },
  {
   "cell_type": "markdown",
   "id": "9a195783-4a95-4688-bd7b-f4692f9ad522",
   "metadata": {},
   "source": [
    "<h1>74. Set Operations</h1>"
   ]
  },
  {
   "cell_type": "code",
   "execution_count": 234,
   "id": "4b948fa5-e497-40ed-aaaa-45e25b3dd8f7",
   "metadata": {},
   "outputs": [
    {
     "name": "stdout",
     "output_type": "stream",
     "text": [
      "({2, 3}, {2, 3, 4, 5}, {4, 5})\n"
     ]
    }
   ],
   "source": [
    "def set_operations(set_a, set_b, set_c):\n",
    "    intersection_ab = set_a & set_b\n",
    "    union_bc = set_b | set_c\n",
    "    difference_ca = set_c - set_a\n",
    "    return intersection_ab, union_bc, difference_ca\n",
    "\n",
    "# Example usage:\n",
    "set_a = {1, 2, 3}\n",
    "set_b = {2, 3, 4}\n",
    "set_c = {3, 4, 5}\n",
    "print(set_operations(set_a, set_b, set_c))"
   ]
  },
  {
   "cell_type": "markdown",
   "id": "fa17f6fc-0ad4-4f8b-9fb8-0b20506eed4b",
   "metadata": {},
   "source": [
    "<h1>75. Set Subset Check</h1>"
   ]
  },
  {
   "cell_type": "code",
   "execution_count": 237,
   "id": "b262620a-30ed-4061-b3fb-12739b7cee79",
   "metadata": {},
   "outputs": [
    {
     "name": "stdout",
     "output_type": "stream",
     "text": [
      "True\n"
     ]
    }
   ],
   "source": [
    "def is_subset(set_a, set_b):\n",
    "    return set_a.issubset(set_b)\n",
    "\n",
    "# Example usage:\n",
    "set_a = {1, 2}\n",
    "set_b = {1, 2, 3, 4}\n",
    "print(is_subset(set_a, set_b))"
   ]
  },
  {
   "cell_type": "markdown",
   "id": "c74d58c2-fd21-49ed-b444-d974d2defaed",
   "metadata": {},
   "source": [
    "<h1>76. Set Superset Check</h1>"
   ]
  },
  {
   "cell_type": "code",
   "execution_count": 240,
   "id": "63bafe8a-11af-4301-a9af-7ef10668379c",
   "metadata": {},
   "outputs": [
    {
     "name": "stdout",
     "output_type": "stream",
     "text": [
      "True\n"
     ]
    }
   ],
   "source": [
    "def is_superset(set_a, set_b):\n",
    "    return set_a.issuperset(set_b)\n",
    "\n",
    "# Example usage:\n",
    "set_a = {1, 2, 3, 4}\n",
    "set_b = {1, 2}\n",
    "print(is_superset(set_a, set_b))"
   ]
  },
  {
   "cell_type": "markdown",
   "id": "3410311a-bee9-4fda-bd10-34de2f6c143f",
   "metadata": {},
   "source": [
    "<h1>77. Set Length Check</h1>"
   ]
  },
  {
   "cell_type": "code",
   "execution_count": 243,
   "id": "c5fd8e90-24cc-4ca0-a49b-079d2f9aa535",
   "metadata": {},
   "outputs": [
    {
     "name": "stdout",
     "output_type": "stream",
     "text": [
      "5\n"
     ]
    }
   ],
   "source": [
    "def set_length(input_set):\n",
    "    return len(input_set)\n",
    "\n",
    "# Example usage:\n",
    "input_set = {1, 2, 3, 4, 5}\n",
    "print(set_length(input_set))"
   ]
  },
  {
   "cell_type": "markdown",
   "id": "9895174d-aa57-4bbf-be55-62846f3ec899",
   "metadata": {},
   "source": [
    "<h1>78. Set Membership Test</h1>"
   ]
  },
  {
   "cell_type": "code",
   "execution_count": 248,
   "id": "67660b2a-9c59-4f60-8da6-0bcf097484c3",
   "metadata": {},
   "outputs": [
    {
     "name": "stdin",
     "output_type": "stream",
     "text": [
      "Enter an element:  5\n"
     ]
    },
    {
     "name": "stdout",
     "output_type": "stream",
     "text": [
      "Found\n"
     ]
    }
   ],
   "source": [
    "def check_membership(input_set, element):\n",
    "    return \"Found\" if element in input_set else \"Not Found\"\n",
    "\n",
    "# Example usage:\n",
    "input_set = {1, 2, 3, 4, 5}\n",
    "element = int(input(\"Enter an element: \"))\n",
    "\n",
    "print(check_membership(input_set, element))"
   ]
  },
  {
   "cell_type": "markdown",
   "id": "4d9d9f40-1282-45db-bd1d-acadd2a5ac05",
   "metadata": {},
   "source": [
    "<h1>79. Dictionary Manipulation</h1>"
   ]
  },
  {
   "cell_type": "code",
   "execution_count": 251,
   "id": "30844392-d9d2-4000-ae98-7d83d8f41d3a",
   "metadata": {},
   "outputs": [
    {
     "name": "stdout",
     "output_type": "stream",
     "text": [
      "{'Alice': 88, 'Bob': 90, 'Charlie': 95}\n"
     ]
    }
   ],
   "source": [
    "def manipulate_dictionary(student_scores, new_student, new_score, existing_student, updated_score):\n",
    "    student_scores[new_student] = new_score\n",
    "    if existing_student in student_scores:\n",
    "        student_scores[existing_student] = updated_score\n",
    "    return student_scores\n",
    "\n",
    "# Example usage:\n",
    "student_scores = {'Alice': 85, 'Bob': 90}\n",
    "new_student = 'Charlie'\n",
    "new_score = 95\n",
    "existing_student = 'Alice'\n",
    "updated_score = 88\n",
    "print(manipulate_dictionary(student_scores, new_student, new_score, existing_student, updated_score))"
   ]
  },
  {
   "cell_type": "markdown",
   "id": "7aecec72-95e4-481c-9dc9-073d3d9a6f1a",
   "metadata": {},
   "source": [
    "<h1>80. Dictionary Keys and Values</h1>"
   ]
  },
  {
   "cell_type": "code",
   "execution_count": 254,
   "id": "d0fc07b7-8f76-4295-95b7-5f1d66570145",
   "metadata": {},
   "outputs": [
    {
     "name": "stdout",
     "output_type": "stream",
     "text": [
      "Key: Alice, Value: 85\n",
      "Key: Bob, Value: 90\n"
     ]
    }
   ],
   "source": [
    "def print_keys_values(d):\n",
    "    for key, value in d.items():\n",
    "        print(f\"Key: {key}, Value: {value}\")\n",
    "\n",
    "# Example usage:\n",
    "d = {'Alice': 85, 'Bob': 90}\n",
    "print_keys_values(d)"
   ]
  },
  {
   "cell_type": "markdown",
   "id": "58de87bf-72da-45ed-a0f1-1578ef39334a",
   "metadata": {},
   "source": [
    "<h1>81. Dictionary Length</h1>"
   ]
  },
  {
   "cell_type": "code",
   "execution_count": 257,
   "id": "607009e2-a162-4915-a044-85ba0837a8ad",
   "metadata": {},
   "outputs": [
    {
     "name": "stdout",
     "output_type": "stream",
     "text": [
      "2\n"
     ]
    }
   ],
   "source": [
    "def dictionary_length(d):\n",
    "    return len(d)\n",
    "\n",
    "# Example usage:\n",
    "d = {'Alice': 85, 'Bob': 90}\n",
    "print(dictionary_length(d))"
   ]
  },
  {
   "cell_type": "markdown",
   "id": "9a700f48-ff96-4fd2-a00a-f40ef3f9800e",
   "metadata": {},
   "source": [
    "<h1>82. Dictionary Value Search</h1>"
   ]
  },
  {
   "cell_type": "code",
   "execution_count": 268,
   "id": "eaa7e6a6-ae72-4708-bbe8-77fe9ae62101",
   "metadata": {},
   "outputs": [
    {
     "name": "stdin",
     "output_type": "stream",
     "text": [
      "Enter a price:  .5\n"
     ]
    },
    {
     "name": "stdout",
     "output_type": "stream",
     "text": [
      "banana\n"
     ]
    }
   ],
   "source": [
    "def search_by_price(items, price):\n",
    "    for item, item_price in items.items():\n",
    "        if item_price == price:\n",
    "            return item\n",
    "    return \"Item not found\"\n",
    "\n",
    "# Example usage:\n",
    "items = {'apple': 1.5, 'banana': 0.5, 'cherry': 2.0}\n",
    "price = float(input(\"Enter a price: \"))\n",
    "print(search_by_price(items, price))"
   ]
  },
  {
   "cell_type": "markdown",
   "id": "38d0f4d1-b722-4618-a00a-db6ef8c4ef6d",
   "metadata": {},
   "source": [
    "<h1>83. Dictionary Merging</h1>"
   ]
  },
  {
   "cell_type": "code",
   "execution_count": 271,
   "id": "0cfb2d63-ac4f-4d6c-8ffd-d21d34bf02b2",
   "metadata": {},
   "outputs": [
    {
     "name": "stdout",
     "output_type": "stream",
     "text": [
      "{'Alice': 85, 'Bob': 90, 'Charlie': 95, 'David': 80}\n"
     ]
    }
   ],
   "source": [
    "def merge_dictionaries(dict1, dict2):\n",
    "    merged_dict = {**dict1, **dict2}\n",
    "    return merged_dict\n",
    "\n",
    "# Example usage:\n",
    "dict1 = {'Alice': 85, 'Bob': 90}\n",
    "dict2 = {'Charlie': 95, 'David': 80}\n",
    "print(merge_dictionaries(dict1, dict2))"
   ]
  },
  {
   "cell_type": "markdown",
   "id": "8a413e6a-1321-4515-a4be-6415dc863c7a",
   "metadata": {},
   "source": [
    "<h1>84. Dictionary Key Removal</h1>"
   ]
  },
  {
   "cell_type": "code",
   "execution_count": 274,
   "id": "ff0fb4dc-a781-4e48-870a-86ac2fe16f1c",
   "metadata": {},
   "outputs": [
    {
     "name": "stdout",
     "output_type": "stream",
     "text": [
      "{'apple': 10, 'cherry': 30}\n"
     ]
    }
   ],
   "source": [
    "def remove_item(d, item):\n",
    "    if item in d:\n",
    "        del d[item]\n",
    "    return d\n",
    "\n",
    "# Example usage:\n",
    "d = {'apple': 10, 'banana': 20, 'cherry': 30}\n",
    "item = 'banana'\n",
    "print(remove_item(d, item))"
   ]
  },
  {
   "cell_type": "markdown",
   "id": "bb7ee833-8c45-4402-8feb-06d6aae50ed1",
   "metadata": {},
   "source": [
    "<h1>85. Dictionary Sorting</h1>"
   ]
  },
  {
   "cell_type": "code",
   "execution_count": 277,
   "id": "a1e3ccce-a45a-4efc-8929-a525690156aa",
   "metadata": {},
   "outputs": [
    {
     "name": "stdout",
     "output_type": "stream",
     "text": [
      "{'Bob': 22, 'Charlie': 23, 'Alice': 25}\n"
     ]
    }
   ],
   "source": [
    "def sort_by_age(d):\n",
    "    return dict(sorted(d.items(), key=lambda item: item[1]))\n",
    "\n",
    "# Example usage:\n",
    "d = {'Alice': 25, 'Bob': 22, 'Charlie': 23}\n",
    "print(sort_by_age(d))"
   ]
  },
  {
   "cell_type": "markdown",
   "id": "66c82c8f-034f-4062-92d8-1b4b7c99aced",
   "metadata": {},
   "source": [
    "<h1>86. Dictionary Frequency Count</h1>"
   ]
  },
  {
   "cell_type": "code",
   "execution_count": 280,
   "id": "a90c90f1-6708-41b0-9a2b-8e37cc5cc950",
   "metadata": {},
   "outputs": [
    {
     "name": "stdout",
     "output_type": "stream",
     "text": [
      "{'h': 1, 'e': 1, 'l': 3, 'o': 2, ' ': 1, 'w': 1, 'r': 1, 'd': 1}\n"
     ]
    }
   ],
   "source": [
    "def frequency_count(s):\n",
    "    freq_dict = {}\n",
    "    for char in s:\n",
    "        if char in freq_dict:\n",
    "            freq_dict[char] += 1\n",
    "        else:\n",
    "            freq_dict[char] = 1\n",
    "    return freq_dict\n",
    "\n",
    "# Example usage:\n",
    "s = \"hello world\"\n",
    "print(frequency_count(s))"
   ]
  },
  {
   "cell_type": "markdown",
   "id": "4c8b23ae-170e-4c30-91e9-4ad2c7d3ef16",
   "metadata": {},
   "source": [
    "<h1>87. Dictionary Comprehension</h1>"
   ]
  },
  {
   "cell_type": "code",
   "execution_count": 283,
   "id": "b4d3a7fe-ad44-47ee-bca7-e78a81e7c710",
   "metadata": {},
   "outputs": [
    {
     "name": "stdout",
     "output_type": "stream",
     "text": [
      "{1: 1, 2: 4, 3: 9, 4: 16}\n"
     ]
    }
   ],
   "source": [
    "def list_to_dict(lst):\n",
    "    return {x: x**2 for x in lst}\n",
    "\n",
    "# Example usage:\n",
    "lst = [1, 2, 3, 4]\n",
    "print(list_to_dict(lst))"
   ]
  },
  {
   "cell_type": "markdown",
   "id": "36ba7771-f5da-4fb8-a0f2-220ea372b3ec",
   "metadata": {},
   "source": [
    "<h1>88. Dictionary Key Check</h1>"
   ]
  },
  {
   "cell_type": "code",
   "execution_count": 290,
   "id": "c23f5c29-4030-47ee-830e-61931acd07bd",
   "metadata": {},
   "outputs": [
    {
     "name": "stdin",
     "output_type": "stream",
     "text": [
      "Enter a key:  Bob\n"
     ]
    },
    {
     "name": "stdout",
     "output_type": "stream",
     "text": [
      "Key Found\n"
     ]
    }
   ],
   "source": [
    "def check_key(d, key):\n",
    "    return \"Key Found\" if key in d else \"Key Not Found\"\n",
    "\n",
    "# Example usage:\n",
    "d = {'Alice': 85, 'Bob': 90}\n",
    "key =(input(\"Enter a key: \"))\n",
    "print(check_key(d, key))"
   ]
  },
  {
   "cell_type": "markdown",
   "id": "a7a11142-bb34-468d-a112-94d41b4781b3",
   "metadata": {},
   "source": [
    "<h1>89. Access Nested Dictionary</h1>"
   ]
  },
  {
   "cell_type": "code",
   "execution_count": 293,
   "id": "1a8a7d0a-9e26-4a39-9fe7-01e19005b984",
   "metadata": {},
   "outputs": [
    {
     "name": "stdout",
     "output_type": "stream",
     "text": [
      "Name: John\n",
      "Age: 20\n",
      "Address: 123 Main St\n"
     ]
    }
   ],
   "source": [
    "# Given nested dictionary\n",
    "students = {\n",
    "    'student1': {'name': 'John', 'age': 20, 'address': '123 Main St'},\n",
    "    'student2': {'name': 'Marie', 'age': 22, 'address': '456 Maple Ave'}\n",
    "}\n",
    "\n",
    "# Access and print specific information\n",
    "print(\"Name:\", students['student1']['name'])\n",
    "print(\"Age:\", students['student1']['age'])\n",
    "print(\"Address:\", students['student1']['address'])"
   ]
  },
  {
   "cell_type": "markdown",
   "id": "490ec81f-8beb-4afd-94e1-3c7a89fa6913",
   "metadata": {},
   "source": [
    "<h1>90. Nested Dictionary Length</h1>"
   ]
  },
  {
   "cell_type": "code",
   "execution_count": 315,
   "id": "80ba4c6e-56cb-4afb-bd40-ad5acbcf0660",
   "metadata": {},
   "outputs": [
    {
     "name": "stdout",
     "output_type": "stream",
     "text": [
      "Total number of key-value pairs: 6\n"
     ]
    }
   ],
   "source": [
    "# Given nested dictionary\n",
    "students = {\n",
    "    'student1': {'name': 'John', 'age': 20, 'address': '123 Main St'},\n",
    "    'student2': {'name': 'Marie', 'age': 22, 'address': '456 Maple Ave'}\n",
    "}\n",
    "\n",
    "# Calculate and print the total number of key-value pairs\n",
    "total_pairs = sum(len(details) for details in students.values())\n",
    "print(\"Total number of key-value pairs:\", total_pairs)"
   ]
  },
  {
   "cell_type": "markdown",
   "id": "3d1712d9-664a-478b-89b3-feb4f51f461d",
   "metadata": {},
   "source": [
    "<h1>91. Nested Dictionary Update</h1>"
   ]
  },
  {
   "cell_type": "code",
   "execution_count": 299,
   "id": "9dc338bf-dedb-495e-b747-c5a563c651f0",
   "metadata": {},
   "outputs": [
    {
     "name": "stdout",
     "output_type": "stream",
     "text": [
      "Updated employee details: {'emp1': {'name': 'John', 'salary': 55000}, 'emp2': {'name': 'Marie', 'salary': 60000}}\n"
     ]
    }
   ],
   "source": [
    "# Given nested dictionary\n",
    "employees = {\n",
    "    'emp1': {'name': 'John', 'salary': 50000},\n",
    "    'emp2': {'name': 'Marie', 'salary': 60000}\n",
    "}\n",
    "\n",
    "# Update an employee's salary based on their employee ID\n",
    "employee_id = 'emp1'\n",
    "new_salary = 55000\n",
    "if employee_id in employees:\n",
    "    employees[employee_id]['salary'] = new_salary\n",
    "\n",
    "print(\"Updated employee details:\", employees)"
   ]
  },
  {
   "cell_type": "markdown",
   "id": "2196aba5-6341-472c-8002-11430279fbb2",
   "metadata": {},
   "source": [
    "<h1>92. Nested Dictionary Sorting</h1>"
   ]
  },
  {
   "cell_type": "code",
   "execution_count": 302,
   "id": "769afdeb-0b8c-485a-9a59-b59f0fa07eb9",
   "metadata": {},
   "outputs": [
    {
     "name": "stdout",
     "output_type": "stream",
     "text": [
      "Sorted products by price: {'product3': {'name': 'Tablet', 'price': 300, 'quantity': 15}, 'product2': {'name': 'Phone', 'price': 500, 'quantity': 20}, 'product1': {'name': 'Laptop', 'price': 800, 'quantity': 10}}\n"
     ]
    }
   ],
   "source": [
    "# Given nested dictionary\n",
    "products = {\n",
    "    'product1': {'name': 'Laptop', 'price': 800, 'quantity': 10},\n",
    "    'product2': {'name': 'Phone', 'price': 500, 'quantity': 20},\n",
    "    'product3': {'name': 'Tablet', 'price': 300, 'quantity': 15}\n",
    "}\n",
    "\n",
    "# Sort products based on their prices in ascending order\n",
    "sorted_products = dict(sorted(products.items(), key=lambda item: item[1]['price']))\n",
    "\n",
    "print(\"Sorted products by price:\", sorted_products)"
   ]
  },
  {
   "cell_type": "markdown",
   "id": "ae90317a-b5ec-45ee-be88-a4e4e9055249",
   "metadata": {},
   "source": [
    "<h1>93. Nested Dictionary Key Search</h1>"
   ]
  },
  {
   "cell_type": "code",
   "execution_count": 317,
   "id": "c52be96a-ab85-487c-b8c9-d3b62502197b",
   "metadata": {},
   "outputs": [
    {
     "name": "stdin",
     "output_type": "stream",
     "text": [
      "Enter the key to search:  b\n"
     ]
    },
    {
     "name": "stdout",
     "output_type": "stream",
     "text": [
      "Key found, value: {'c': 2, 'd': {'e': 3}}\n"
     ]
    }
   ],
   "source": [
    "# Nested Dictionary Key Search: Write a Python program that takes a key as input and searches for it in a nested dictionary.\n",
    "# If found, print the corresponding value, otherwise, print “Key Not Found.”\n",
    "\n",
    "def search_key_in_dict(d, key):\n",
    "    if key in d:\n",
    "        return d[key]\n",
    "    \n",
    "    for k, v in d.items():\n",
    "        if isinstance(v, dict):\n",
    "            result = search_key_in_dict(v, key)\n",
    "            if result is not None:\n",
    "                return result\n",
    "    return None\n",
    "\n",
    "# Example nested dictionary\n",
    "nested_dict = {\n",
    "    'a': 1,\n",
    "    'b': {\n",
    "        'c': 2,\n",
    "        'd': {\n",
    "            'e': 3\n",
    "        }\n",
    "    },\n",
    "    'f': 4\n",
    "}\n",
    "\n",
    "# Input key\n",
    "key_to_search = input(\"Enter the key to search: \")\n",
    "\n",
    "# Search for the key in the dictionary\n",
    "value = search_key_in_dict(nested_dict, key_to_search)\n",
    "\n",
    "if value is not None:\n",
    "    print(f\"Key found, value: {value}\")\n",
    "else:\n",
    "    print(\"Key Not Found\")\n"
   ]
  },
  {
   "cell_type": "markdown",
   "id": "e7c49a9b-96dc-4e7a-9b2b-d1731aa2cc74",
   "metadata": {},
   "source": [
    "<h1>94. Prime Number Checker</h1>\n"
   ]
  },
  {
   "cell_type": "code",
   "execution_count": 320,
   "id": "97416b19-1a7e-488d-acc1-6a99a5373c9e",
   "metadata": {},
   "outputs": [
    {
     "name": "stdin",
     "output_type": "stream",
     "text": [
      "Enter a number:  7\n"
     ]
    },
    {
     "name": "stdout",
     "output_type": "stream",
     "text": [
      "7 is a prime number.\n"
     ]
    }
   ],
   "source": [
    "# Prime Number Checker: Write a Python program that takes a number as input and determines if it is a prime number or not.\n",
    "\n",
    "number = int(input(\"Enter a number: \"))\n",
    "\n",
    "if number > 1:\n",
    "    for i in range(2, number):\n",
    "        if number % i == 0:\n",
    "            print(f\"{number} is not a prime number.\")\n",
    "            break\n",
    "    else:\n",
    "        print(f\"{number} is a prime number.\")\n",
    "else:\n",
    "    print(f\"{number} is not a prime number.\")\n"
   ]
  },
  {
   "cell_type": "markdown",
   "id": "df92ea2d-c770-45cd-a615-e270126a61e1",
   "metadata": {},
   "source": [
    "<h1>95. Even Number Printer</h1>\n"
   ]
  },
  {
   "cell_type": "code",
   "execution_count": 323,
   "id": "0a33d0b5-e81b-4b67-99d4-bb0278423f55",
   "metadata": {},
   "outputs": [
    {
     "name": "stdout",
     "output_type": "stream",
     "text": [
      "2\n",
      "4\n",
      "6\n",
      "8\n",
      "10\n",
      "12\n",
      "14\n",
      "16\n",
      "18\n",
      "20\n"
     ]
    }
   ],
   "source": [
    "# Even Number Printer: Write a Python program to print all even numbers from 1 to 20. \n",
    "# Use a `for` loop and `continue` to skip odd numbers.\n",
    "\n",
    "for num in range(1, 21):\n",
    "    if num % 2 != 0:\n",
    "        continue\n",
    "    print(num)\n"
   ]
  },
  {
   "cell_type": "markdown",
   "id": "4914565a-4955-4548-82cd-c9ca8d4d19d3",
   "metadata": {},
   "source": [
    "<h1>96. Password Validator</h1>\n"
   ]
  },
  {
   "cell_type": "code",
   "execution_count": 328,
   "id": "8528e5d7-9a07-4afb-8c80-25e825f0e3af",
   "metadata": {},
   "outputs": [
    {
     "name": "stdin",
     "output_type": "stream",
     "text": [
      "Enter your password:  #sujon26\n"
     ]
    },
    {
     "name": "stdout",
     "output_type": "stream",
     "text": [
      "Password must contain at least one uppercase letter.\n"
     ]
    },
    {
     "name": "stdin",
     "output_type": "stream",
     "text": [
      "Enter your password:  @Sujon12\n"
     ]
    },
    {
     "name": "stdout",
     "output_type": "stream",
     "text": [
      "Password accepted.\n"
     ]
    }
   ],
   "source": [
    "# Password Validator: Write a Python program that takes a password as input and checks if it meets the criteria.\n",
    "\n",
    "while True:\n",
    "    password = input(\"Enter your password: \")\n",
    "    \n",
    "    if len(password) < 8:\n",
    "        print(\"Password must be at least 8 characters long.\")\n",
    "        continue\n",
    "    \n",
    "    if not any(char.isdigit() for char in password):\n",
    "        print(\"Password must contain at least one digit.\")\n",
    "        continue\n",
    "    \n",
    "    if not any(char.isupper() for char in password):\n",
    "        print(\"Password must contain at least one uppercase letter.\")\n",
    "        continue\n",
    "    \n",
    "    if not any(char.islower() for char in password):\n",
    "        print(\"Password must contain at least one lowercase letter.\")\n",
    "        continue\n",
    "    \n",
    "    print(\"Password accepted.\")\n",
    "    break\n"
   ]
  },
  {
   "cell_type": "markdown",
   "id": "2c13d1f4-d07f-4e14-aa2e-3924e9ee2629",
   "metadata": {},
   "source": [
    "<h1>97. Divisible by 3 or 5</h1>\n"
   ]
  },
  {
   "cell_type": "code",
   "execution_count": 331,
   "id": "63ad9bce-488b-4ce5-a77b-aa1f4db28490",
   "metadata": {},
   "outputs": [
    {
     "name": "stdout",
     "output_type": "stream",
     "text": [
      "3\n",
      "5\n",
      "6\n",
      "9\n",
      "10\n",
      "12\n",
      "15\n",
      "18\n",
      "20\n",
      "21\n",
      "24\n",
      "25\n",
      "27\n",
      "30\n",
      "33\n",
      "35\n",
      "36\n",
      "39\n",
      "40\n",
      "42\n",
      "45\n",
      "48\n",
      "50\n"
     ]
    }
   ],
   "source": [
    "# Divisible by 3 or 5: Write a Python program to print all numbers from 1 to 50 that are divisible by either 3 or 5.\n",
    "\n",
    "for num in range(1, 51):\n",
    "    if num % 3 != 0 and num % 5 != 0:\n",
    "        continue\n",
    "    print(num)\n"
   ]
  },
  {
   "cell_type": "markdown",
   "id": "de3255a1-b826-4801-bf2c-a3ed84cb98f3",
   "metadata": {},
   "source": [
    "<h1>98. Positive Number Sum</h1>\n"
   ]
  },
  {
   "cell_type": "code",
   "execution_count": 334,
   "id": "9540a556-db41-4ae3-a1e4-26f5b755858a",
   "metadata": {},
   "outputs": [
    {
     "name": "stdin",
     "output_type": "stream",
     "text": [
      "Enter a positive number:  5\n",
      "Enter a positive number:  7\n",
      "Enter a positive number:  -2\n"
     ]
    },
    {
     "name": "stdout",
     "output_type": "stream",
     "text": [
      "The sum of all positive numbers is: 12\n"
     ]
    }
   ],
   "source": [
    "# Positive Number Sum: Write a Python program that takes positive numbers as input until a negative number is entered.\n",
    "\n",
    "total_sum = 0\n",
    "\n",
    "while True:\n",
    "    number = int(input(\"Enter a positive number: \"))\n",
    "    if number < 0:\n",
    "        break\n",
    "    total_sum += number\n",
    "\n",
    "print(f\"The sum of all positive numbers is: {total_sum}\")\n"
   ]
  },
  {
   "cell_type": "markdown",
   "id": "9dd05f9d-cd5d-4d2d-95e4-23259d831aaf",
   "metadata": {},
   "source": [
    "<h1>99. Word Palindrome Checker</h1>\n"
   ]
  },
  {
   "cell_type": "code",
   "execution_count": 348,
   "id": "f9353da1-c401-4b5d-9c23-4a2d004e83c5",
   "metadata": {},
   "outputs": [
    {
     "name": "stdin",
     "output_type": "stream",
     "text": [
      "Enter a word:  madam\n"
     ]
    },
    {
     "name": "stdout",
     "output_type": "stream",
     "text": [
      "'madam' is a palindrome.\n"
     ]
    }
   ],
   "source": [
    "# Word Palindrome Checker: Write a Python program that takes a word as input and checks if it is a palindrome.\n",
    "def is_palindrome(word):\n",
    "    # Convert the word to lowercase to make the check case-insensitive\n",
    "    word = word.lower()\n",
    "    # Initialize pointers for the start and end of the word\n",
    "    start = 0\n",
    "    end = len(word) - 1\n",
    "    \n",
    "    # Use a while loop to compare characters from both ends\n",
    "    while start < end:\n",
    "        if word[start] != word[end]:\n",
    "            return False\n",
    "        start += 1\n",
    "        end -= 1\n",
    "    \n",
    "    return True\n",
    "\n",
    "# Take input from the user\n",
    "input_word = input(\"Enter a word: \")\n",
    "\n",
    "# Check if the input word is a palindrome\n",
    "if is_palindrome(input_word):\n",
    "    print(f\"'{input_word}' is a palindrome.\")\n",
    "else:\n",
    "    print(f\"'{input_word}' is not a palindrome.\")"
   ]
  },
  {
   "cell_type": "markdown",
   "id": "7a67eaba-4494-4556-93ff-efb33ceed3e6",
   "metadata": {},
   "source": [
    "<h1>100. Odd Number Finder</h1>"
   ]
  },
  {
   "cell_type": "code",
   "execution_count": 351,
   "id": "1c76c8c4-ee39-4bcc-97ef-b517812db0e9",
   "metadata": {},
   "outputs": [
    {
     "name": "stdout",
     "output_type": "stream",
     "text": [
      "The first odd number is: 9\n"
     ]
    }
   ],
   "source": [
    "# Odd Number Finder: Write a Python program to find the first odd number from a list of integers.\n",
    "\n",
    "numbers = [2, 4, 6, 8, 9, 10]\n",
    "\n",
    "for num in numbers:\n",
    "    if num % 2 != 0:\n",
    "        print(f\"The first odd number is: {num}\")\n",
    "        break\n"
   ]
  },
  {
   "cell_type": "markdown",
   "id": "5bbd6076-16a0-4d02-83b8-a971703d5570",
   "metadata": {},
   "source": [
    "<h1>101. Number Guessing Game</h1>\n"
   ]
  },
  {
   "cell_type": "code",
   "execution_count": 354,
   "id": "b0a08124-85e9-4fa4-89f6-fb4a0b5209aa",
   "metadata": {},
   "outputs": [
    {
     "name": "stdin",
     "output_type": "stream",
     "text": [
      "Guess the number (between 1 and 100):  4\n"
     ]
    },
    {
     "name": "stdout",
     "output_type": "stream",
     "text": [
      "Too low! Try again.\n"
     ]
    },
    {
     "name": "stdin",
     "output_type": "stream",
     "text": [
      "Guess the number (between 1 and 100):  7\n"
     ]
    },
    {
     "name": "stdout",
     "output_type": "stream",
     "text": [
      "Too low! Try again.\n"
     ]
    },
    {
     "name": "stdin",
     "output_type": "stream",
     "text": [
      "Guess the number (between 1 and 100):  5\n"
     ]
    },
    {
     "name": "stdout",
     "output_type": "stream",
     "text": [
      "Too low! Try again.\n"
     ]
    },
    {
     "name": "stdin",
     "output_type": "stream",
     "text": [
      "Guess the number (between 1 and 100):  6\n"
     ]
    },
    {
     "name": "stdout",
     "output_type": "stream",
     "text": [
      "Too low! Try again.\n"
     ]
    },
    {
     "name": "stdin",
     "output_type": "stream",
     "text": [
      "Guess the number (between 1 and 100):  7\n"
     ]
    },
    {
     "name": "stdout",
     "output_type": "stream",
     "text": [
      "Too low! Try again.\n"
     ]
    },
    {
     "name": "stdin",
     "output_type": "stream",
     "text": [
      "Guess the number (between 1 and 100):  7\n"
     ]
    },
    {
     "name": "stdout",
     "output_type": "stream",
     "text": [
      "Too low! Try again.\n"
     ]
    },
    {
     "name": "stdin",
     "output_type": "stream",
     "text": [
      "Guess the number (between 1 and 100):  8\n"
     ]
    },
    {
     "name": "stdout",
     "output_type": "stream",
     "text": [
      "Too low! Try again.\n"
     ]
    },
    {
     "name": "stdin",
     "output_type": "stream",
     "text": [
      "Guess the number (between 1 and 100):  9\n"
     ]
    },
    {
     "name": "stdout",
     "output_type": "stream",
     "text": [
      "Too low! Try again.\n"
     ]
    },
    {
     "name": "stdin",
     "output_type": "stream",
     "text": [
      "Guess the number (between 1 and 100):  0\n"
     ]
    },
    {
     "name": "stdout",
     "output_type": "stream",
     "text": [
      "Too low! Try again.\n"
     ]
    },
    {
     "name": "stdin",
     "output_type": "stream",
     "text": [
      "Guess the number (between 1 and 100):  11\n"
     ]
    },
    {
     "name": "stdout",
     "output_type": "stream",
     "text": [
      "Too low! Try again.\n"
     ]
    },
    {
     "name": "stdin",
     "output_type": "stream",
     "text": [
      "Guess the number (between 1 and 100):  12\n"
     ]
    },
    {
     "name": "stdout",
     "output_type": "stream",
     "text": [
      "Too low! Try again.\n"
     ]
    },
    {
     "name": "stdin",
     "output_type": "stream",
     "text": [
      "Guess the number (between 1 and 100):  3434\n"
     ]
    },
    {
     "name": "stdout",
     "output_type": "stream",
     "text": [
      "Too high! Try again.\n"
     ]
    },
    {
     "name": "stdin",
     "output_type": "stream",
     "text": [
      "Guess the number (between 1 and 100):  50\n"
     ]
    },
    {
     "name": "stdout",
     "output_type": "stream",
     "text": [
      "Too low! Try again.\n"
     ]
    },
    {
     "name": "stdin",
     "output_type": "stream",
     "text": [
      "Guess the number (between 1 and 100):  90\n"
     ]
    },
    {
     "name": "stdout",
     "output_type": "stream",
     "text": [
      "Too high! Try again.\n"
     ]
    },
    {
     "name": "stdin",
     "output_type": "stream",
     "text": [
      "Guess the number (between 1 and 100):  45\n"
     ]
    },
    {
     "name": "stdout",
     "output_type": "stream",
     "text": [
      "Too low! Try again.\n"
     ]
    },
    {
     "name": "stdin",
     "output_type": "stream",
     "text": [
      "Guess the number (between 1 and 100):  60\n"
     ]
    },
    {
     "name": "stdout",
     "output_type": "stream",
     "text": [
      "Too low! Try again.\n"
     ]
    },
    {
     "name": "stdin",
     "output_type": "stream",
     "text": [
      "Guess the number (between 1 and 100):  70\n"
     ]
    },
    {
     "name": "stdout",
     "output_type": "stream",
     "text": [
      "Congratulations! You guessed the correct number.\n"
     ]
    }
   ],
   "source": [
    "# Number Guessing Game: Write a Python program that generates a random number between 1 and 100 and lets the user guess it.\n",
    "\n",
    "import random\n",
    "\n",
    "target_number = random.randint(1, 100)\n",
    "\n",
    "while True:\n",
    "    guess = int(input(\"Guess the number (between 1 and 100): \"))\n",
    "    \n",
    "    if guess == target_number:\n",
    "        print(\"Congratulations! You guessed the correct number.\")\n",
    "        break\n",
    "    elif guess < target_number:\n",
    "        print(\"Too low! Try again.\")\n",
    "    else:\n",
    "        print(\"Too high! Try again.\")\n"
   ]
  },
  {
   "cell_type": "markdown",
   "id": "6a16cd5d-cb68-4601-afce-6fa08ba874b6",
   "metadata": {},
   "source": [
    "<h1>102. Vowel Counter</h1>"
   ]
  },
  {
   "cell_type": "code",
   "execution_count": 357,
   "id": "9944a17c-3244-46fb-992e-c22599c981a5",
   "metadata": {},
   "outputs": [
    {
     "name": "stdin",
     "output_type": "stream",
     "text": [
      "Enter a string:  hello\n"
     ]
    },
    {
     "name": "stdout",
     "output_type": "stream",
     "text": [
      "Number of vowels in the string: 2\n"
     ]
    }
   ],
   "source": [
    "# Vowel Counter: Write a Python program that takes a string as input and counts the number of vowels (a, e, i, o, u) in it.\n",
    "\n",
    "vowels = \"aeiou\"\n",
    "count = 0\n",
    "input_string = input(\"Enter a string: \").lower()\n",
    "\n",
    "for char in input_string:\n",
    "    if char not in vowels:\n",
    "        continue\n",
    "    count += 1\n",
    "\n",
    "print(f\"Number of vowels in the string: {count}\")\n"
   ]
  },
  {
   "cell_type": "markdown",
   "id": "5a8f1948-ed6c-4b85-a2e7-30793c5c871c",
   "metadata": {},
   "source": [
    "<h1>103. Unique Characters</h1>"
   ]
  },
  {
   "cell_type": "code",
   "execution_count": 360,
   "id": "ab94d8e2-f66e-40c6-b5bb-5338b6f92275",
   "metadata": {},
   "outputs": [
    {
     "name": "stdin",
     "output_type": "stream",
     "text": [
      "Enter a string:  Bangladesh\n"
     ]
    },
    {
     "name": "stdout",
     "output_type": "stream",
     "text": [
      "The string does not contain all unique characters. 'a' is repeated.\n"
     ]
    }
   ],
   "source": [
    "# Unique Characters: Write a Python program that takes a string as input and checks if it contains all unique characters.\n",
    "\n",
    "input_string = input(\"Enter a string: \")\n",
    "seen_characters = set()\n",
    "\n",
    "for char in input_string:\n",
    "    if char in seen_characters:\n",
    "        print(f\"The string does not contain all unique characters. '{char}' is repeated.\")\n",
    "        break\n",
    "    seen_characters.add(char)\n",
    "else:\n",
    "    print(\"The string contains all unique characters.\")\n"
   ]
  },
  {
   "cell_type": "markdown",
   "id": "df53f82b-4e5d-4e66-add0-200723ff09b6",
   "metadata": {},
   "source": [
    "<h1>104. Factorial Calculator</h1>"
   ]
  },
  {
   "cell_type": "code",
   "execution_count": 363,
   "id": "87f7ec86-28c4-47af-b3b3-0c476f883018",
   "metadata": {},
   "outputs": [
    {
     "name": "stdout",
     "output_type": "stream",
     "text": [
      "120\n",
      "1\n",
      "5040\n"
     ]
    }
   ],
   "source": [
    "# Factorial Calculator: Write a Python function called `factorial` that takes an integer as input and returns its factorial.\n",
    "\n",
    "def factorial(n):\n",
    "    if n == 0 or n == 1:\n",
    "        return 1\n",
    "    else:\n",
    "        return n * factorial(n - 1)\n",
    "\n",
    "# Test the function with different values\n",
    "print(factorial(5))  \n",
    "print(factorial(0))  \n",
    "print(factorial(7))  \n"
   ]
  },
  {
   "cell_type": "markdown",
   "id": "bdda6ceb-4060-4466-92bd-6c50742ebc48",
   "metadata": {},
   "source": [
    "<h1>105. Palindrome Checker</h1>"
   ]
  },
  {
   "cell_type": "code",
   "execution_count": 366,
   "id": "6bd26b6a-e6fe-4f2b-8c84-cdf0fcd8ef4e",
   "metadata": {},
   "outputs": [
    {
     "name": "stdout",
     "output_type": "stream",
     "text": [
      "True\n",
      "False\n",
      "True\n"
     ]
    }
   ],
   "source": [
    "# Palindrome Checker: Write a Python function called `is_palindrome` that takes a string as input and returns `True` if it is a palindrome.\n",
    "\n",
    "def is_palindrome(word):\n",
    "    return word == word[::-1]\n",
    "\n",
    "# Test the function with different words\n",
    "print(is_palindrome(\"radar\")) \n",
    "print(is_palindrome(\"hello\"))  \n",
    "print(is_palindrome(\"level\"))  \n"
   ]
  },
  {
   "cell_type": "markdown",
   "id": "3ccc5e9c-39d1-4447-9819-46251bd4dda5",
   "metadata": {},
   "source": [
    "<h1>106. Even or Odd Checker</h1>"
   ]
  },
  {
   "cell_type": "code",
   "execution_count": 369,
   "id": "9de3b7f9-cfa7-4e7f-ba61-cf40144ee24d",
   "metadata": {},
   "outputs": [
    {
     "name": "stdout",
     "output_type": "stream",
     "text": [
      "Even\n",
      "Odd\n",
      "Even\n"
     ]
    }
   ],
   "source": [
    "# Even or Odd Checker: Write a Python function called `even_or_odd` that takes an integer as input and returns “Even” or “Odd”.\n",
    "\n",
    "def even_or_odd(number):\n",
    "    return \"Even\" if number % 2 == 0 else \"Odd\"\n",
    "\n",
    "# Test the function with different numbers\n",
    "print(even_or_odd(10))  \n",
    "print(even_or_odd(7))   \n",
    "print(even_or_odd(0))  \n"
   ]
  },
  {
   "cell_type": "markdown",
   "id": "4710d18e-0a4e-4f79-8828-b1fd6e55003a",
   "metadata": {},
   "source": [
    "<h1>107. List Sum Calculator</h1>"
   ]
  },
  {
   "cell_type": "code",
   "execution_count": 372,
   "id": "b402b349-8677-40df-b5ea-cac724dc2807",
   "metadata": {},
   "outputs": [
    {
     "name": "stdout",
     "output_type": "stream",
     "text": [
      "15\n",
      "60\n",
      "-6\n"
     ]
    }
   ],
   "source": [
    "# List Sum Calculator: Write a Python function called `list_sum` that takes a list of integers and returns the sum.\n",
    "\n",
    "def list_sum(numbers):\n",
    "    return sum(numbers)\n",
    "\n",
    "# Test the function with different lists\n",
    "print(list_sum([1, 2, 3, 4, 5]))  \n",
    "print(list_sum([10, 20, 30]))    \n",
    "print(list_sum([-1, -2, -3]))    \n"
   ]
  },
  {
   "cell_type": "markdown",
   "id": "e9901150-da88-48b4-b4ec-65a8431a73df",
   "metadata": {},
   "source": [
    "<h1>108. Greatest Common Divisor (GCD) Calculator</h1>"
   ]
  },
  {
   "cell_type": "code",
   "execution_count": 375,
   "id": "f1169269-0373-4d54-b8d1-2176bcb6e180",
   "metadata": {},
   "outputs": [
    {
     "name": "stdout",
     "output_type": "stream",
     "text": [
      "6\n",
      "6\n",
      "1\n"
     ]
    }
   ],
   "source": [
    "# GCD Calculator: Write a Python function called `gcd` that takes two integers and returns their greatest common divisor.\n",
    "\n",
    "def gcd(a, b):\n",
    "    while b:\n",
    "        a, b = b, a % b\n",
    "    return a\n",
    "\n",
    "# Test the function with different pairs of numbers\n",
    "print(gcd(48, 18))  \n",
    "print(gcd(54, 24))  \n",
    "print(gcd(17, 13))  \n"
   ]
  },
  {
   "cell_type": "markdown",
   "id": "2aba33eb-f5e0-495f-a3f7-3c78ae849a35",
   "metadata": {},
   "source": [
    "<h1>109. Leap Year Checker</h1>\n"
   ]
  },
  {
   "cell_type": "code",
   "execution_count": 378,
   "id": "50044052-c662-4096-a5ab-c38b47821a06",
   "metadata": {},
   "outputs": [
    {
     "name": "stdout",
     "output_type": "stream",
     "text": [
      "True\n",
      "False\n",
      "True\n"
     ]
    }
   ],
   "source": [
    "# Leap Year Checker: Write a Python function called `is_leap_year` that takes a year as input and returns `True` if it is a leap year.\n",
    "\n",
    "def is_leap_year(year):\n",
    "    return (year % 4 == 0 and year % 100 != 0) or (year % 400 == 0)\n",
    "\n",
    "# Test the function with different years\n",
    "print(is_leap_year(2020))  \n",
    "print(is_leap_year(1900))  \n",
    "print(is_leap_year(2000))  \n"
   ]
  },
  {
   "cell_type": "markdown",
   "id": "549d6c08-5027-4b5b-a31f-c725c5c3ead0",
   "metadata": {},
   "source": [
    "<h1>110. Math Operations</h1>"
   ]
  },
  {
   "cell_type": "code",
   "execution_count": 381,
   "id": "db56787b-6951-4cdc-b11a-ac6272c10e5f",
   "metadata": {},
   "outputs": [
    {
     "name": "stdout",
     "output_type": "stream",
     "text": [
      "10\n",
      "4\n",
      "24\n",
      "2.0\n"
     ]
    }
   ],
   "source": [
    "# Math Operations: Write a Python function called `math_operations` that takes three numbers \n",
    "# and a string representing an operation (‘add’, ‘subtract’, ‘multiply’, or ‘divide’).\n",
    "\n",
    "def math_operations(a, b, c, operation):\n",
    "    \n",
    "    def add(x, y, z):\n",
    "        return x + y + z\n",
    "    \n",
    "    def subtract(x, y, z):\n",
    "        return x - y - z\n",
    "    \n",
    "    def multiply(x, y, z):\n",
    "        return x * y * z\n",
    "    \n",
    "    def divide(x, y, z):\n",
    "        if y == 0 or z == 0:\n",
    "            return \"Cannot divide by zero!\"\n",
    "        return x / y / z\n",
    "\n",
    "    if operation == 'add':\n",
    "        return add(a, b, c)\n",
    "    elif operation == 'subtract':\n",
    "        return subtract(a, b, c)\n",
    "    elif operation == 'multiply':\n",
    "        return multiply(a, b, c)\n",
    "    elif operation == 'divide':\n",
    "        return divide(a, b, c)\n",
    "    else:\n",
    "        return \"Invalid operation!\"\n",
    "\n",
    "# Test the function\n",
    "print(math_operations(5, 3, 2, 'add'))       \n",
    "print(math_operations(10, 4, 2, 'subtract')) \n",
    "print(math_operations(2, 3, 4, 'multiply'))  \n",
    "print(math_operations(8, 2, 2, 'divide'))    \n"
   ]
  },
  {
   "cell_type": "markdown",
   "id": "7ed70550-bcd2-4a61-b693-686b5275da9f",
   "metadata": {},
   "source": [
    "<h1>111. Greeting Generator</h1>"
   ]
  },
  {
   "cell_type": "code",
   "execution_count": 384,
   "id": "b952e8dc-5796-452f-a05e-7e4c6da9129e",
   "metadata": {},
   "outputs": [
    {
     "name": "stdout",
     "output_type": "stream",
     "text": [
      "Hello, Alice! How are you today?\n",
      "Hello, Bob! How are you today?\n"
     ]
    }
   ],
   "source": [
    "# Greeting Generator: Write a Python function called `greeting_generator` that takes a name \n",
    "# as input and returns a greeting message using nested functions.\n",
    "\n",
    "def greeting_generator(name):\n",
    "    \n",
    "    def greeting():\n",
    "        return f\"Hello, {name}!\"\n",
    "    \n",
    "    def ask_question():\n",
    "        return \"How are you today?\"\n",
    "    \n",
    "    return greeting() + \" \" + ask_question()\n",
    "\n",
    "# Test the function\n",
    "print(greeting_generator(\"Alice\")) \n",
    "print(greeting_generator(\"Bob\"))    \n"
   ]
  },
  {
   "cell_type": "markdown",
   "id": "9bc63f7a-637e-44eb-ac31-854cdf333e05",
   "metadata": {},
   "source": [
    "<h1>112. Temperature Converter</h1>"
   ]
  },
  {
   "cell_type": "code",
   "execution_count": 387,
   "id": "f69922ed-9101-44ad-b102-cac60a4d9258",
   "metadata": {},
   "outputs": [
    {
     "name": "stdout",
     "output_type": "stream",
     "text": [
      "212.0\n",
      "0.0\n",
      "32.0\n"
     ]
    }
   ],
   "source": [
    "# Temperature Converter: Write a Python function called `temperature_converter` that takes a temperature value \n",
    "# and a string representing the scale (‘C’ for Celsius or ‘F’ for Fahrenheit) as input. \n",
    "\n",
    "def temperature_converter(temp, scale):\n",
    "    \n",
    "    def celsius_to_fahrenheit(c):\n",
    "        return (c * 9/5) + 32\n",
    "    \n",
    "    def fahrenheit_to_celsius(f):\n",
    "        return (f - 32) * 5/9\n",
    "    \n",
    "    if scale == 'C':\n",
    "        return celsius_to_fahrenheit(temp)\n",
    "    elif scale == 'F':\n",
    "        return fahrenheit_to_celsius(temp)\n",
    "    else:\n",
    "        return \"Invalid scale! Please use 'C' for Celsius or 'F' for Fahrenheit.\"\n",
    "\n",
    "# Test the function\n",
    "print(temperature_converter(100, 'C'))  \n",
    "print(temperature_converter(32, 'F'))   \n",
    "print(temperature_converter(0, 'C'))   \n"
   ]
  },
  {
   "cell_type": "markdown",
   "id": "39b4c856-64f9-492a-9791-6967fed3d78a",
   "metadata": {},
   "source": [
    "<h1>113. Factorial Calculation</h1>"
   ]
  },
  {
   "cell_type": "code",
   "execution_count": 390,
   "id": "c27d699a-2792-4b00-8a7a-702ede0c2396",
   "metadata": {},
   "outputs": [
    {
     "name": "stdout",
     "output_type": "stream",
     "text": [
      "120\n",
      "5040\n"
     ]
    }
   ],
   "source": [
    "def factorial(n):\n",
    "    if n == 0 or n == 1:\n",
    "        return 1\n",
    "    else:\n",
    "        return n * factorial(n - 1)\n",
    "\n",
    "# Test the function with different values\n",
    "print(factorial(5)) \n",
    "print(factorial(7)) "
   ]
  },
  {
   "cell_type": "markdown",
   "id": "e2a01f83-3583-4947-9df4-32e4fb8a0340",
   "metadata": {},
   "source": [
    "<h1>114. Fibonacci Series</h1>"
   ]
  },
  {
   "cell_type": "code",
   "execution_count": 393,
   "id": "9e447e71-0b43-457a-b1c6-a2e16b7a87a9",
   "metadata": {},
   "outputs": [
    {
     "name": "stdout",
     "output_type": "stream",
     "text": [
      "55\n",
      "610\n"
     ]
    }
   ],
   "source": [
    "def Fibonacci(n):\n",
    "    if n <= 0:\n",
    "        return 0\n",
    "    elif n == 1:\n",
    "        return 1\n",
    "    else:\n",
    "        return Fibonacci(n - 1) + Fibonacci(n - 2)\n",
    "\n",
    "# Test the function with different values\n",
    "print(Fibonacci(10))  \n",
    "print(Fibonacci(15))  "
   ]
  },
  {
   "cell_type": "markdown",
   "id": "744ca73d-6106-4ebb-a995-31bc258c004e",
   "metadata": {},
   "source": [
    "<h1>115. The Sum of Digits</h1>"
   ]
  },
  {
   "cell_type": "code",
   "execution_count": 399,
   "id": "cd974e8f-1d1d-4f17-b5d8-e37111600226",
   "metadata": {},
   "outputs": [
    {
     "name": "stdout",
     "output_type": "stream",
     "text": [
      "15\n",
      "30\n"
     ]
    }
   ],
   "source": [
    "# Sum of Digits: Write a recursive Python function called `sum_of_digits` that takes an integer and returns the sum of its digits.\n",
    "\n",
    "def sum_of_digits(n):\n",
    "    if n == 0:\n",
    "        return 0\n",
    "    else:\n",
    "        return n % 10 + sum_of_digits(n // 10)\n",
    "\n",
    "# Test the function\n",
    "print(sum_of_digits(12345))  \n",
    "print(sum_of_digits(9876))   \n"
   ]
  },
  {
   "cell_type": "markdown",
   "id": "4ab772e8-9d71-41d2-aeda-7040ff59d154",
   "metadata": {},
   "source": [
    "<h1>116. Binary Search</h1>"
   ]
  },
  {
   "cell_type": "code",
   "execution_count": 402,
   "id": "2b7dcc87-ba75-4255-83d3-169de09449d2",
   "metadata": {},
   "outputs": [
    {
     "name": "stdout",
     "output_type": "stream",
     "text": [
      "3\n",
      "-1\n"
     ]
    }
   ],
   "source": [
    "# Binary Search: Write a recursive Python function called `binary_search` that takes a sorted list and a target value.\n",
    "\n",
    "def binary_search(arr, target, low, high):\n",
    "    if low > high:\n",
    "        return -1\n",
    "    mid = (low + high) // 2\n",
    "    \n",
    "    if arr[mid] == target:\n",
    "        return mid\n",
    "    elif arr[mid] > target:\n",
    "        return binary_search(arr, target, low, mid - 1)\n",
    "    else:\n",
    "        return binary_search(arr, target, mid + 1, high)\n",
    "\n",
    "# Test the function\n",
    "arr = [1, 3, 5, 7, 9, 11]\n",
    "print(binary_search(arr, 7, 0, len(arr) - 1))  # Output: 3\n",
    "print(binary_search(arr, 4, 0, len(arr) - 1))  # Output: -1\n"
   ]
  },
  {
   "cell_type": "markdown",
   "id": "1538f74f-fb5b-47ec-be9b-32392ffcc73b",
   "metadata": {},
   "source": [
    "<h1>117. Power Calculation</h1>"
   ]
  },
  {
   "cell_type": "code",
   "execution_count": 409,
   "id": "e1a9a7c7-3ea2-437f-8ae5-f581b643b2ae",
   "metadata": {},
   "outputs": [
    {
     "name": "stdin",
     "output_type": "stream",
     "text": [
      "Enter the base:  2\n",
      "Enter the exponent:  5\n"
     ]
    },
    {
     "name": "stdout",
     "output_type": "stream",
     "text": [
      "2 raised to the power of 5 is 32\n"
     ]
    }
   ],
   "source": [
    "# Power Calculation: Write a recursive Python function called `power` that takes two positive integers, base and exponent.\n",
    "\n",
    "# Recursive Power Calculation Function\n",
    "def power(base, exponent):\n",
    "    if exponent == 0:\n",
    "        return 1\n",
    "    else:\n",
    "        return base * power(base, exponent - 1)\n",
    "\n",
    "# Take input from the user\n",
    "base = int(input(\"Enter the base: \"))\n",
    "exponent = int(input(\"Enter the exponent: \"))\n",
    "\n",
    "# Call the function and print the result\n",
    "print(f\"{base} raised to the power of {exponent} is {power(base, exponent)}\")\n"
   ]
  }
 ],
 "metadata": {
  "kernelspec": {
   "display_name": "Python 3 (ipykernel)",
   "language": "python",
   "name": "python3"
  },
  "language_info": {
   "codemirror_mode": {
    "name": "ipython",
    "version": 3
   },
   "file_extension": ".py",
   "mimetype": "text/x-python",
   "name": "python",
   "nbconvert_exporter": "python",
   "pygments_lexer": "ipython3",
   "version": "3.11.5"
  }
 },
 "nbformat": 4,
 "nbformat_minor": 5
}
